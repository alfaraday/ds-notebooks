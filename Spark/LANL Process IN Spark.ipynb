{
 "cells": [
  {
   "cell_type": "code",
   "execution_count": null,
   "metadata": {},
   "outputs": [],
   "source": [
    "from pyspark import SparkContext\n",
    "from pyspark.streaming import StreamingContext\n",
    "\n",
    "import json\n",
    "\n",
    "def check_json(js, col):\n",
    "    try:\n",
    "        data = json.loads(js)\n",
    "        return [data.get(i) for i in col]\n",
    "    except:\n",
    "        return []\n",
    "\n",
    "\n",
    "def convert_json2df(rdd, col):\n",
    "    ss = SparkSession(rdd.context)\n",
    "    if rdd.isEmpty():\n",
    "        return\n",
    "    df = ss.createDataFrame(rdd, schema=StructType(\"based on 'col'\"))\n",
    "    df.show()\n",
    "    \n",
    "cols = ['Time', 'Duration', 'SrcDevice', 'DstDevice', 'Protocol', 'SrcPort', \n",
    "        'DstPort', 'SrcPackets', 'DstPackets', 'SrcBytes', 'DstBytes']\n",
    "\n",
    "# Create a local StreamingContext with two working thread and batch interval of 1 second\n",
    "sc = SparkContext(\"local[2]\", \"NetworkApp\")\n",
    "ssc = StreamingContext(sc, 1)\n",
    "\n",
    "lines = ssc.socketTextStream(\"172.18.0.2\", 9009)\n",
    "#    .map(lambda x: check_json(x, cols)) \\\n",
    "#    .filter(lambda x: x) \\\n",
    "#    .foreachRDD(lambda x: convert_json2df(x, cols))\n",
    "\n",
    "lines.pprint()\n",
    "\n",
    "ssc.start()             # Start the computation\n",
    "ssc.awaitTermination()  # Wait for the computation to terminate"
   ]
  },
  {
   "cell_type": "code",
   "execution_count": null,
   "metadata": {},
   "outputs": [],
   "source": []
  }
 ],
 "metadata": {
  "kernelspec": {
   "display_name": "Python 3",
   "language": "python",
   "name": "python3"
  },
  "language_info": {
   "codemirror_mode": {
    "name": "ipython",
    "version": 3
   },
   "file_extension": ".py",
   "mimetype": "text/x-python",
   "name": "python",
   "nbconvert_exporter": "python",
   "pygments_lexer": "ipython3",
   "version": "3.6.3"
  }
 },
 "nbformat": 4,
 "nbformat_minor": 2
}
