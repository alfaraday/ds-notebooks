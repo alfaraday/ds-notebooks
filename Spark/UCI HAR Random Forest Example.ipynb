{
 "cells": [
  {
   "cell_type": "code",
   "execution_count": 1,
   "metadata": {},
   "outputs": [],
   "source": [
    "CSV_TRAIN_FEATURE_PATH = \"/home/ds/notebooks/datasets/UCI_HAR/Train/X_Train.txt\"\n",
    "CSV_TRAIN_LABEL_PATH = \"/home/ds/notebooks/datasets/UCI_HAR/Train/Y_Train.txt\"\n",
    "CSV_TEST_FEATURE_PATH = \"/home/ds/notebooks/datasets/UCI_HAR/Test/X_Test.txt\"\n",
    "CSV_TEST_LABEL_PATH = \"/home/ds/notebooks/datasets/UCI_HAR/Test/Y_Test.txt\"\n",
    "CSV_ACTIVITY_LABEL_PATH = \"/home/ds/notebooks/datasets/UCI_HAR/activity_labels.txt\"\n",
    "APP_NAME = \"UCI HAR Random Forest Example\"\n",
    "SPARK_URL = \"local[*]\"\n",
    "RANDOM_SEED = 141107\n",
    "TRAINING_DATA_RATIO = 0.7\n",
    "RF_NUM_TREES = 10\n",
    "RF_MAX_DEPTH = 4\n",
    "RF_NUM_BINS = 32"
   ]
  },
  {
   "cell_type": "code",
   "execution_count": 2,
   "metadata": {},
   "outputs": [],
   "source": [
    "from pyspark import SparkContext\n",
    "from pyspark.sql import SparkSession\n",
    "\n",
    "from pyspark.ml import Pipeline\n",
    "from pyspark.ml.classification import RandomForestClassifier\n",
    "from pyspark.ml.feature import IndexToString, StringIndexer, VectorIndexer, VectorAssembler\n",
    "from pyspark.ml.evaluation import MulticlassClassificationEvaluator\n",
    "\n",
    "from pprint import pprint"
   ]
  },
  {
   "cell_type": "code",
   "execution_count": 3,
   "metadata": {},
   "outputs": [],
   "source": [
    "spark = SparkSession.builder.appName(APP_NAME).master(SPARK_URL).getOrCreate()\n",
    "\n",
    "activity_labels = spark.read.options(header = \"true\", inferschema = \"true\").csv(CSV_ACTIVITY_LABEL_PATH)\n",
    "\n",
    "df_x_train = spark.read.text(CSV_TRAIN_FEATURE_PATH)\n",
    "df_y_train = spark.read.text(CSV_TRAIN_LABEL_PATH)\n",
    "\n",
    "df_x_test = spark.read.text(CSV_TEST_FEATURE_PATH)\n",
    "df_y_test = spark.read.text(CSV_TEST_LABEL_PATH)"
   ]
  },
  {
   "cell_type": "code",
   "execution_count": 4,
   "metadata": {},
   "outputs": [
    {
     "name": "stdout",
     "output_type": "stream",
     "text": [
      "+-----+------------------+\n",
      "|index|             label|\n",
      "+-----+------------------+\n",
      "|    1|           WALKING|\n",
      "|    2|  WALKING_UPSTAIRS|\n",
      "|    3|WALKING_DOWNSTAIRS|\n",
      "|    4|           SITTING|\n",
      "|    5|          STANDING|\n",
      "|    6|            LAYING|\n",
      "+-----+------------------+\n",
      "\n"
     ]
    }
   ],
   "source": [
    "activity_labels.show()"
   ]
  },
  {
   "cell_type": "code",
   "execution_count": 5,
   "metadata": {},
   "outputs": [
    {
     "data": {
      "text/plain": [
       "1"
      ]
     },
     "execution_count": 5,
     "metadata": {},
     "output_type": "execute_result"
    }
   ],
   "source": [
    "len(df_x_train.columns)"
   ]
  },
  {
   "cell_type": "code",
   "execution_count": 6,
   "metadata": {},
   "outputs": [
    {
     "data": {
      "text/plain": [
       "7352"
      ]
     },
     "execution_count": 6,
     "metadata": {},
     "output_type": "execute_result"
    }
   ],
   "source": [
    "df_x_train.count()"
   ]
  },
  {
   "cell_type": "code",
   "execution_count": 7,
   "metadata": {},
   "outputs": [
    {
     "data": {
      "text/plain": [
       "1"
      ]
     },
     "execution_count": 7,
     "metadata": {},
     "output_type": "execute_result"
    }
   ],
   "source": [
    "len(df_x_test.columns)"
   ]
  },
  {
   "cell_type": "code",
   "execution_count": null,
   "metadata": {},
   "outputs": [],
   "source": []
  }
 ],
 "metadata": {
  "kernelspec": {
   "display_name": "Python 3",
   "language": "python",
   "name": "python3"
  },
  "language_info": {
   "codemirror_mode": {
    "name": "ipython",
    "version": 3
   },
   "file_extension": ".py",
   "mimetype": "text/x-python",
   "name": "python",
   "nbconvert_exporter": "python",
   "pygments_lexer": "ipython3",
   "version": "3.6.3"
  }
 },
 "nbformat": 4,
 "nbformat_minor": 2
}
