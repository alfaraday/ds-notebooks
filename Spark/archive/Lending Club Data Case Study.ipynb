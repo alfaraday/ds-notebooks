{
 "cells": [
  {
   "cell_type": "markdown",
   "metadata": {
    "slideshow": {
     "slide_type": "subslide"
    }
   },
   "source": [
    "For our first taste of programming with Spark, we'll revisit the Lending Club dataset you first used earlier in the course. Instead of building a random forest though, we'll perform a logistic regression to determine the likelihood that someone will be approved for a loan."
   ]
  },
  {
   "cell_type": "markdown",
   "metadata": {},
   "source": [
    "Some notes:\n",
    "* data loading: Pyspark can't naively load a csv from a URL so we want to copy the data file into our container and load from there. This isn't the case for something like HDFS however, you can load directly from Hadoop. For details see [here](https://spark.apache.org/docs/latest/rdd-programming-guide.html#external-datasets)\n",
    "* Note on dropping columns - need to create a new dataframe. It won't remove columns in-place.\n",
    "\n",
    "* Data prep strategy:\n",
    "    1. Drop columns that have high portion of nulls. Only keep columns with fewer than 10 nulls total. Otherwise drop it.\n",
    "    2. From remaining columns, review the schema and type. Cast any string columns that should be numeric into the appropriate value.\n",
    "    3. Once all column types are correct, look at the categorical variables, and create the dummies as needed.\n",
    "    \n",
    "* Here is the big thing - the data then needs to be transformed from a multicolumn CSV dataframe into a label / feature RDD.\n",
    "    * The RDD has to have only two columns: labels and a vector with all the features.\n",
    "    * To achieve this we will combine remaining numeric variables and the dummy variables, then compress them into single row vectors.\n",
    "    \n",
    "* At that point data prep will be complete and we can run the random forest."
   ]
  },
  {
   "cell_type": "code",
   "execution_count": 1,
   "metadata": {},
   "outputs": [],
   "source": [
    "CSV_PATH = \"/home/ds/notebooks/datasets/LoanStats3d.csv\"\n",
    "APP_NAME = \"Lending Club Random Forest Example\"\n",
    "SPARK_URL = \"local[*]\"\n",
    "RANDOM_SEED = 141107\n",
    "TRAINING_DATA_RATIO = 0.7\n",
    "RF_NUM_TREES = 10\n",
    "RF_MAX_DEPTH = 4\n",
    "RF_NUM_BINS = 32"
   ]
  },
  {
   "cell_type": "code",
   "execution_count": 2,
   "metadata": {},
   "outputs": [],
   "source": [
    "from pyspark.ml import Pipeline\n",
    "from pyspark.ml.classification import RandomForestClassifier\n",
    "from pyspark.ml.feature import IndexToString, StringIndexer, VectorIndexer, VectorAssembler\n",
    "from pyspark.ml.evaluation import MulticlassClassificationEvaluator\n",
    "\n",
    "from pprint import pprint"
   ]
  },
  {
   "cell_type": "code",
   "execution_count": 3,
   "metadata": {},
   "outputs": [],
   "source": [
    "from pyspark import SparkContext\n",
    "from pyspark.sql import SparkSession\n",
    "\n",
    "spark = SparkSession.builder \\\n",
    "    .appName(APP_NAME) \\\n",
    "    .master(SPARK_URL) \\\n",
    "    .getOrCreate()\n",
    "\n",
    "df = spark.read \\\n",
    "    .options(header = \"true\", inferschema = \"true\") \\\n",
    "    .csv(CSV_PATH)"
   ]
  },
  {
   "cell_type": "code",
   "execution_count": 4,
   "metadata": {},
   "outputs": [],
   "source": [
    "from pyspark.sql.functions import isnan, when, count, col\n",
    "\n",
    "null_counts = df.select([count(when(isnan(c) | col(c).isNull(), c)).alias(c) \n",
    "                         for c in df.columns]).toPandas().to_dict(orient='records')"
   ]
  },
  {
   "cell_type": "code",
   "execution_count": 5,
   "metadata": {},
   "outputs": [
    {
     "name": "stdout",
     "output_type": "stream",
     "text": [
      "{'acc_now_delinq': 1,\n",
      " 'acc_open_past_24mths': 1,\n",
      " 'addr_state': 0,\n",
      " 'all_util': 399723,\n",
      " 'annual_inc': 0,\n",
      " 'annual_inc_joint': 420583,\n",
      " 'application_type': 0,\n",
      " 'avg_cur_bal': 0,\n",
      " 'bc_open_to_buy': 3963,\n",
      " 'bc_util': 4227,\n",
      " 'chargeoff_within_12_mths': 0,\n",
      " 'collection_recovery_fee': 0,\n",
      " 'collections_12_mths_ex_med': 0,\n",
      " 'debt_settlement_flag': 0,\n",
      " 'debt_settlement_flag_date': 415607,\n",
      " 'deferral_term': 419185,\n",
      " 'delinq_2yrs': 0,\n",
      " 'delinq_amnt': 0,\n",
      " 'desc': 421050,\n",
      " 'disbursement_method': 1,\n",
      " 'dti': 2,\n",
      " 'dti_joint': 420586,\n",
      " 'earliest_cr_line': 0,\n",
      " 'emp_length': 0,\n",
      " 'emp_title': 23872,\n",
      " 'funded_amnt': 0,\n",
      " 'funded_amnt_inv': 0,\n",
      " 'grade': 0,\n",
      " 'hardship_amount': 419185,\n",
      " 'hardship_dpd': 419185,\n",
      " 'hardship_end_date': 419185,\n",
      " 'hardship_flag': 1,\n",
      " 'hardship_last_payment_amount': 419185,\n",
      " 'hardship_length': 419185,\n",
      " 'hardship_loan_status': 419185,\n",
      " 'hardship_payoff_balance_amount': 419185,\n",
      " 'hardship_reason': 419185,\n",
      " 'hardship_start_date': 419185,\n",
      " 'hardship_status': 419185,\n",
      " 'hardship_type': 419184,\n",
      " 'home_ownership': 0,\n",
      " 'id': 421095,\n",
      " 'il_util': 402478,\n",
      " 'initial_list_status': 0,\n",
      " 'inq_fi': 399722,\n",
      " 'inq_last_12m': 399723,\n",
      " 'inq_last_6mths': 0,\n",
      " 'installment': 0,\n",
      " 'int_rate': 0,\n",
      " 'issue_d': 0,\n",
      " 'last_credit_pull_d': 10,\n",
      " 'last_pymnt_amnt': 0,\n",
      " 'last_pymnt_d': 294,\n",
      " 'loan_amnt': 0,\n",
      " 'loan_status': 0,\n",
      " 'max_bal_bc': 399723,\n",
      " 'member_id': 421095,\n",
      " 'mo_sin_old_il_acct': 12254,\n",
      " 'mo_sin_old_rev_tl_op': 0,\n",
      " 'mo_sin_rcnt_rev_tl_op': 0,\n",
      " 'mo_sin_rcnt_tl': 0,\n",
      " 'mort_acc': 0,\n",
      " 'mths_since_last_delinq': 203961,\n",
      " 'mths_since_last_major_derog': 298365,\n",
      " 'mths_since_last_record': 346681,\n",
      " 'mths_since_rcnt_il': 400285,\n",
      " 'mths_since_recent_bc': 3798,\n",
      " 'mths_since_recent_bc_dlq': 312494,\n",
      " 'mths_since_recent_inq': 44600,\n",
      " 'mths_since_recent_revol_delinq': 269357,\n",
      " 'next_pymnt_d': 218972,\n",
      " 'num_accts_ever_120_pd': 1,\n",
      " 'num_actv_bc_tl': 0,\n",
      " 'num_actv_rev_tl': 0,\n",
      " 'num_bc_sats': 0,\n",
      " 'num_bc_tl': 0,\n",
      " 'num_il_tl': 0,\n",
      " 'num_op_rev_tl': 0,\n",
      " 'num_rev_accts': 1,\n",
      " 'num_rev_tl_bal_gt_0': 0,\n",
      " 'num_sats': 0,\n",
      " 'num_tl_120dpd_2m': 19230,\n",
      " 'num_tl_30dpd': 0,\n",
      " 'num_tl_90g_dpd_24m': 0,\n",
      " 'num_tl_op_past_12m': 0,\n",
      " 'open_acc': 0,\n",
      " 'open_acc_6m': 399722,\n",
      " 'open_act_il': 399723,\n",
      " 'open_il_12m': 399723,\n",
      " 'open_il_24m': 399723,\n",
      " 'open_rv_12m': 399723,\n",
      " 'open_rv_24m': 399723,\n",
      " 'orig_projected_additional_accrued_interest': 419482,\n",
      " 'out_prncp': 0,\n",
      " 'out_prncp_inv': 0,\n",
      " 'payment_plan_start_date': 419185,\n",
      " 'pct_tl_nvr_dlq': 0,\n",
      " 'percent_bc_gt_75': 4239,\n",
      " 'policy_code': 1,\n",
      " 'pub_rec': 0,\n",
      " 'pub_rec_bankruptcies': 0,\n",
      " 'purpose': 1,\n",
      " 'pymnt_plan': 0,\n",
      " 'recoveries': 0,\n",
      " 'revol_bal': 0,\n",
      " 'revol_bal_joint': 421094,\n",
      " 'revol_util': 162,\n",
      " 'sec_app_chargeoff_within_12_mths': 421095,\n",
      " 'sec_app_collections_12_mths_ex_med': 421095,\n",
      " 'sec_app_earliest_cr_line': 421095,\n",
      " 'sec_app_inq_last_6mths': 421095,\n",
      " 'sec_app_mort_acc': 421095,\n",
      " 'sec_app_mths_since_last_major_derog': 421095,\n",
      " 'sec_app_num_rev_accts': 421095,\n",
      " 'sec_app_open_acc': 421095,\n",
      " 'sec_app_open_act_il': 421095,\n",
      " 'sec_app_revol_util': 421095,\n",
      " 'settlement_amount': 415608,\n",
      " 'settlement_date': 415608,\n",
      " 'settlement_percentage': 415608,\n",
      " 'settlement_status': 415608,\n",
      " 'settlement_term': 415608,\n",
      " 'sub_grade': 0,\n",
      " 'tax_liens': 0,\n",
      " 'term': 0,\n",
      " 'title': 132,\n",
      " 'tot_coll_amt': 0,\n",
      " 'tot_cur_bal': 0,\n",
      " 'tot_hi_cred_lim': 0,\n",
      " 'total_acc': 0,\n",
      " 'total_bal_ex_mort': 0,\n",
      " 'total_bal_il': 399723,\n",
      " 'total_bc_limit': 0,\n",
      " 'total_cu_tl': 399723,\n",
      " 'total_il_high_credit_limit': 0,\n",
      " 'total_pymnt': 0,\n",
      " 'total_pymnt_inv': 0,\n",
      " 'total_rec_int': 0,\n",
      " 'total_rec_late_fee': 0,\n",
      " 'total_rec_prncp': 0,\n",
      " 'total_rev_hi_lim': 1,\n",
      " 'url': 421094,\n",
      " 'verification_status': 0,\n",
      " 'verification_status_joint': 420584,\n",
      " 'zip_code': 0}\n"
     ]
    }
   ],
   "source": [
    "pprint(null_counts[0])"
   ]
  },
  {
   "cell_type": "code",
   "execution_count": 6,
   "metadata": {},
   "outputs": [],
   "source": [
    "null_columns_to_drop = [key for key, value in null_counts[0].items() if value > 10]"
   ]
  },
  {
   "cell_type": "code",
   "execution_count": 7,
   "metadata": {},
   "outputs": [
    {
     "name": "stdout",
     "output_type": "stream",
     "text": [
      "['id',\n",
      " 'member_id',\n",
      " 'emp_title',\n",
      " 'url',\n",
      " 'desc',\n",
      " 'title',\n",
      " 'mths_since_last_delinq',\n",
      " 'mths_since_last_record',\n",
      " 'revol_util',\n",
      " 'last_pymnt_d',\n",
      " 'next_pymnt_d',\n",
      " 'mths_since_last_major_derog',\n",
      " 'annual_inc_joint',\n",
      " 'dti_joint',\n",
      " 'verification_status_joint',\n",
      " 'open_acc_6m',\n",
      " 'open_act_il',\n",
      " 'open_il_12m',\n",
      " 'open_il_24m',\n",
      " 'mths_since_rcnt_il',\n",
      " 'total_bal_il',\n",
      " 'il_util',\n",
      " 'open_rv_12m',\n",
      " 'open_rv_24m',\n",
      " 'max_bal_bc',\n",
      " 'all_util',\n",
      " 'inq_fi',\n",
      " 'total_cu_tl',\n",
      " 'inq_last_12m',\n",
      " 'bc_open_to_buy',\n",
      " 'bc_util',\n",
      " 'mo_sin_old_il_acct',\n",
      " 'mths_since_recent_bc',\n",
      " 'mths_since_recent_bc_dlq',\n",
      " 'mths_since_recent_inq',\n",
      " 'mths_since_recent_revol_delinq',\n",
      " 'num_tl_120dpd_2m',\n",
      " 'percent_bc_gt_75',\n",
      " 'revol_bal_joint',\n",
      " 'sec_app_earliest_cr_line',\n",
      " 'sec_app_inq_last_6mths',\n",
      " 'sec_app_mort_acc',\n",
      " 'sec_app_open_acc',\n",
      " 'sec_app_revol_util',\n",
      " 'sec_app_open_act_il',\n",
      " 'sec_app_num_rev_accts',\n",
      " 'sec_app_chargeoff_within_12_mths',\n",
      " 'sec_app_collections_12_mths_ex_med',\n",
      " 'sec_app_mths_since_last_major_derog',\n",
      " 'hardship_type',\n",
      " 'hardship_reason',\n",
      " 'hardship_status',\n",
      " 'deferral_term',\n",
      " 'hardship_amount',\n",
      " 'hardship_start_date',\n",
      " 'hardship_end_date',\n",
      " 'payment_plan_start_date',\n",
      " 'hardship_length',\n",
      " 'hardship_dpd',\n",
      " 'hardship_loan_status',\n",
      " 'orig_projected_additional_accrued_interest',\n",
      " 'hardship_payoff_balance_amount',\n",
      " 'hardship_last_payment_amount',\n",
      " 'debt_settlement_flag_date',\n",
      " 'settlement_status',\n",
      " 'settlement_date',\n",
      " 'settlement_amount',\n",
      " 'settlement_percentage',\n",
      " 'settlement_term']\n"
     ]
    }
   ],
   "source": [
    "pprint(null_columns_to_drop)"
   ]
  },
  {
   "cell_type": "code",
   "execution_count": 8,
   "metadata": {},
   "outputs": [
    {
     "name": "stdout",
     "output_type": "stream",
     "text": [
      "145\n",
      "145\n",
      "69\n"
     ]
    }
   ],
   "source": [
    "print(len(df.columns))\n",
    "print(len(null_counts[0].keys()))\n",
    "print(len(null_columns_to_drop))"
   ]
  },
  {
   "cell_type": "code",
   "execution_count": 9,
   "metadata": {},
   "outputs": [],
   "source": [
    "df_updated = df.drop(*null_columns_to_drop)"
   ]
  },
  {
   "cell_type": "code",
   "execution_count": 10,
   "metadata": {},
   "outputs": [
    {
     "name": "stdout",
     "output_type": "stream",
     "text": [
      "76\n"
     ]
    }
   ],
   "source": [
    "print(len(df_updated.columns))"
   ]
  },
  {
   "cell_type": "code",
   "execution_count": 11,
   "metadata": {},
   "outputs": [
    {
     "name": "stdout",
     "output_type": "stream",
     "text": [
      "Total number of rows: 421095\n"
     ]
    }
   ],
   "source": [
    "print(\"Total number of rows: %d\" % df_updated.count())"
   ]
  },
  {
   "cell_type": "code",
   "execution_count": 12,
   "metadata": {},
   "outputs": [],
   "source": [
    "df_remove_na = df_updated.dropna()"
   ]
  },
  {
   "cell_type": "code",
   "execution_count": 13,
   "metadata": {},
   "outputs": [
    {
     "name": "stdout",
     "output_type": "stream",
     "text": [
      "Total number of rows: 421082\n"
     ]
    }
   ],
   "source": [
    "print(\"Total number of rows: %d\" % df_remove_na.count())"
   ]
  },
  {
   "cell_type": "code",
   "execution_count": 14,
   "metadata": {},
   "outputs": [],
   "source": [
    "null_counts_update = df_remove_na.select([count(when(isnan(c) | col(c).isNull(), c)).alias(c) \n",
    "                                        for c in df_remove_na.columns]).toPandas().to_dict(orient='records')"
   ]
  },
  {
   "cell_type": "code",
   "execution_count": 15,
   "metadata": {},
   "outputs": [
    {
     "name": "stdout",
     "output_type": "stream",
     "text": [
      "{'acc_now_delinq': 0,\n",
      " 'acc_open_past_24mths': 0,\n",
      " 'addr_state': 0,\n",
      " 'annual_inc': 0,\n",
      " 'application_type': 0,\n",
      " 'avg_cur_bal': 0,\n",
      " 'chargeoff_within_12_mths': 0,\n",
      " 'collection_recovery_fee': 0,\n",
      " 'collections_12_mths_ex_med': 0,\n",
      " 'debt_settlement_flag': 0,\n",
      " 'delinq_2yrs': 0,\n",
      " 'delinq_amnt': 0,\n",
      " 'disbursement_method': 0,\n",
      " 'dti': 0,\n",
      " 'earliest_cr_line': 0,\n",
      " 'emp_length': 0,\n",
      " 'funded_amnt': 0,\n",
      " 'funded_amnt_inv': 0,\n",
      " 'grade': 0,\n",
      " 'hardship_flag': 0,\n",
      " 'home_ownership': 0,\n",
      " 'initial_list_status': 0,\n",
      " 'inq_last_6mths': 0,\n",
      " 'installment': 0,\n",
      " 'int_rate': 0,\n",
      " 'issue_d': 0,\n",
      " 'last_credit_pull_d': 0,\n",
      " 'last_pymnt_amnt': 0,\n",
      " 'loan_amnt': 0,\n",
      " 'loan_status': 0,\n",
      " 'mo_sin_old_rev_tl_op': 0,\n",
      " 'mo_sin_rcnt_rev_tl_op': 0,\n",
      " 'mo_sin_rcnt_tl': 0,\n",
      " 'mort_acc': 0,\n",
      " 'num_accts_ever_120_pd': 0,\n",
      " 'num_actv_bc_tl': 0,\n",
      " 'num_actv_rev_tl': 0,\n",
      " 'num_bc_sats': 0,\n",
      " 'num_bc_tl': 0,\n",
      " 'num_il_tl': 0,\n",
      " 'num_op_rev_tl': 0,\n",
      " 'num_rev_accts': 0,\n",
      " 'num_rev_tl_bal_gt_0': 0,\n",
      " 'num_sats': 0,\n",
      " 'num_tl_30dpd': 0,\n",
      " 'num_tl_90g_dpd_24m': 0,\n",
      " 'num_tl_op_past_12m': 0,\n",
      " 'open_acc': 0,\n",
      " 'out_prncp': 0,\n",
      " 'out_prncp_inv': 0,\n",
      " 'pct_tl_nvr_dlq': 0,\n",
      " 'policy_code': 0,\n",
      " 'pub_rec': 0,\n",
      " 'pub_rec_bankruptcies': 0,\n",
      " 'purpose': 0,\n",
      " 'pymnt_plan': 0,\n",
      " 'recoveries': 0,\n",
      " 'revol_bal': 0,\n",
      " 'sub_grade': 0,\n",
      " 'tax_liens': 0,\n",
      " 'term': 0,\n",
      " 'tot_coll_amt': 0,\n",
      " 'tot_cur_bal': 0,\n",
      " 'tot_hi_cred_lim': 0,\n",
      " 'total_acc': 0,\n",
      " 'total_bal_ex_mort': 0,\n",
      " 'total_bc_limit': 0,\n",
      " 'total_il_high_credit_limit': 0,\n",
      " 'total_pymnt': 0,\n",
      " 'total_pymnt_inv': 0,\n",
      " 'total_rec_int': 0,\n",
      " 'total_rec_late_fee': 0,\n",
      " 'total_rec_prncp': 0,\n",
      " 'total_rev_hi_lim': 0,\n",
      " 'verification_status': 0,\n",
      " 'zip_code': 0}\n"
     ]
    }
   ],
   "source": [
    "pprint(null_counts_update[0])"
   ]
  },
  {
   "cell_type": "markdown",
   "metadata": {},
   "source": [
    "We've removed all null values from the dataset without removing too much information. This is a good thing but we're still not ready to run our random forest.\n",
    "\n",
    "Next let's take a look at our updated dataframe schema."
   ]
  },
  {
   "cell_type": "code",
   "execution_count": 16,
   "metadata": {},
   "outputs": [
    {
     "name": "stdout",
     "output_type": "stream",
     "text": [
      "root\n",
      " |-- loan_amnt: integer (nullable = true)\n",
      " |-- funded_amnt: integer (nullable = true)\n",
      " |-- funded_amnt_inv: double (nullable = true)\n",
      " |-- term: string (nullable = true)\n",
      " |-- int_rate: string (nullable = true)\n",
      " |-- installment: double (nullable = true)\n",
      " |-- grade: string (nullable = true)\n",
      " |-- sub_grade: string (nullable = true)\n",
      " |-- emp_length: string (nullable = true)\n",
      " |-- home_ownership: string (nullable = true)\n",
      " |-- annual_inc: string (nullable = true)\n",
      " |-- verification_status: string (nullable = true)\n",
      " |-- issue_d: string (nullable = true)\n",
      " |-- loan_status: string (nullable = true)\n",
      " |-- pymnt_plan: string (nullable = true)\n",
      " |-- purpose: string (nullable = true)\n",
      " |-- zip_code: string (nullable = true)\n",
      " |-- addr_state: string (nullable = true)\n",
      " |-- dti: string (nullable = true)\n",
      " |-- delinq_2yrs: double (nullable = true)\n",
      " |-- earliest_cr_line: string (nullable = true)\n",
      " |-- inq_last_6mths: string (nullable = true)\n",
      " |-- open_acc: integer (nullable = true)\n",
      " |-- pub_rec: integer (nullable = true)\n",
      " |-- revol_bal: integer (nullable = true)\n",
      " |-- total_acc: string (nullable = true)\n",
      " |-- initial_list_status: string (nullable = true)\n",
      " |-- out_prncp: string (nullable = true)\n",
      " |-- out_prncp_inv: double (nullable = true)\n",
      " |-- total_pymnt: double (nullable = true)\n",
      " |-- total_pymnt_inv: double (nullable = true)\n",
      " |-- total_rec_prncp: double (nullable = true)\n",
      " |-- total_rec_int: double (nullable = true)\n",
      " |-- total_rec_late_fee: double (nullable = true)\n",
      " |-- recoveries: double (nullable = true)\n",
      " |-- collection_recovery_fee: double (nullable = true)\n",
      " |-- last_pymnt_amnt: string (nullable = true)\n",
      " |-- last_credit_pull_d: string (nullable = true)\n",
      " |-- collections_12_mths_ex_med: string (nullable = true)\n",
      " |-- policy_code: integer (nullable = true)\n",
      " |-- application_type: string (nullable = true)\n",
      " |-- acc_now_delinq: integer (nullable = true)\n",
      " |-- tot_coll_amt: integer (nullable = true)\n",
      " |-- tot_cur_bal: integer (nullable = true)\n",
      " |-- total_rev_hi_lim: integer (nullable = true)\n",
      " |-- acc_open_past_24mths: integer (nullable = true)\n",
      " |-- avg_cur_bal: integer (nullable = true)\n",
      " |-- chargeoff_within_12_mths: double (nullable = true)\n",
      " |-- delinq_amnt: integer (nullable = true)\n",
      " |-- mo_sin_old_rev_tl_op: integer (nullable = true)\n",
      " |-- mo_sin_rcnt_rev_tl_op: integer (nullable = true)\n",
      " |-- mo_sin_rcnt_tl: integer (nullable = true)\n",
      " |-- mort_acc: integer (nullable = true)\n",
      " |-- num_accts_ever_120_pd: integer (nullable = true)\n",
      " |-- num_actv_bc_tl: integer (nullable = true)\n",
      " |-- num_actv_rev_tl: integer (nullable = true)\n",
      " |-- num_bc_sats: integer (nullable = true)\n",
      " |-- num_bc_tl: integer (nullable = true)\n",
      " |-- num_il_tl: integer (nullable = true)\n",
      " |-- num_op_rev_tl: integer (nullable = true)\n",
      " |-- num_rev_accts: integer (nullable = true)\n",
      " |-- num_rev_tl_bal_gt_0: integer (nullable = true)\n",
      " |-- num_sats: integer (nullable = true)\n",
      " |-- num_tl_30dpd: integer (nullable = true)\n",
      " |-- num_tl_90g_dpd_24m: integer (nullable = true)\n",
      " |-- num_tl_op_past_12m: integer (nullable = true)\n",
      " |-- pct_tl_nvr_dlq: double (nullable = true)\n",
      " |-- pub_rec_bankruptcies: integer (nullable = true)\n",
      " |-- tax_liens: integer (nullable = true)\n",
      " |-- tot_hi_cred_lim: integer (nullable = true)\n",
      " |-- total_bal_ex_mort: integer (nullable = true)\n",
      " |-- total_bc_limit: integer (nullable = true)\n",
      " |-- total_il_high_credit_limit: integer (nullable = true)\n",
      " |-- hardship_flag: string (nullable = true)\n",
      " |-- disbursement_method: string (nullable = true)\n",
      " |-- debt_settlement_flag: string (nullable = true)\n",
      "\n"
     ]
    }
   ],
   "source": [
    "df_remove_na.printSchema()"
   ]
  },
  {
   "cell_type": "markdown",
   "metadata": {},
   "source": [
    "We still have a ton of columns and we probably should look at reducing it further. \n",
    "\n",
    "Let's start by examining only the columns that are strings, and check whether we should convert them to a numeric datatype."
   ]
  },
  {
   "cell_type": "code",
   "execution_count": 17,
   "metadata": {},
   "outputs": [
    {
     "name": "stdout",
     "output_type": "stream",
     "text": [
      "27\n"
     ]
    }
   ],
   "source": [
    "categoricals = [col[0] for col in df_remove_na.dtypes if col[1] == 'string']\n",
    "print(len(categoricals))"
   ]
  },
  {
   "cell_type": "markdown",
   "metadata": {},
   "source": [
    "So we can see that there are over 25 string columns. We're calling them \"categorical\" now but they're really only candidates to be categoricals. \n",
    "\n",
    "In fact, before we do that, we should take a quick look at the data in those columns to better understand if:\n",
    "1. they're actually categorical\n",
    "2. they are another type (likely numeric)\n",
    "3. they can be removed because we think they don't contribute much information.\n",
    "    * here we'll just use our experience, but in an actual analysis you should test for feature importance before removing any columns."
   ]
  },
  {
   "cell_type": "code",
   "execution_count": 18,
   "metadata": {},
   "outputs": [
    {
     "name": "stdout",
     "output_type": "stream",
     "text": [
      "+----------+--------+-----+---------+----------+--------------+\n",
      "|      term|int_rate|grade|sub_grade|emp_length|home_ownership|\n",
      "+----------+--------+-----+---------+----------+--------------+\n",
      "| 60 months|   9.80%|    B|       B3| 10+ years|      MORTGAGE|\n",
      "| 60 months|  12.88%|    C|       C2|    1 year|      MORTGAGE|\n",
      "| 36 months|  15.77%|    D|       D1|   2 years|      MORTGAGE|\n",
      "| 36 months|  10.78%|    B|       B4|   8 years|          RENT|\n",
      "| 36 months|   7.49%|    A|       A4| 10+ years|      MORTGAGE|\n",
      "+----------+--------+-----+---------+----------+--------------+\n",
      "only showing top 5 rows\n",
      "\n",
      "+----------+-------------------+--------+-----------+----------+------------------+\n",
      "|annual_inc|verification_status| issue_d|loan_status|pymnt_plan|           purpose|\n",
      "+----------+-------------------+--------+-----------+----------+------------------+\n",
      "|     65000|       Not Verified|Dec-2015| Fully Paid|         n|debt_consolidation|\n",
      "|     70000|       Not Verified|Dec-2015|    Current|         n|debt_consolidation|\n",
      "|    175000|       Not Verified|Dec-2015| Fully Paid|         n|  home_improvement|\n",
      "|    104000|    Source Verified|Dec-2015| Fully Paid|         n|debt_consolidation|\n",
      "|    109000|       Not Verified|Dec-2015| Fully Paid|         n|debt_consolidation|\n",
      "+----------+-------------------+--------+-----------+----------+------------------+\n",
      "only showing top 5 rows\n",
      "\n",
      "+--------+----------+-----+----------------+--------------+\n",
      "|zip_code|addr_state|  dti|earliest_cr_line|inq_last_6mths|\n",
      "+--------+----------+-----+----------------+--------------+\n",
      "|   660xx|        KS|23.84|        Nov-2003|             0|\n",
      "|   786xx|        TX| 26.4|        Feb-1988|             0|\n",
      "|   430xx|        OH| 18.5|        Aug-1997|             1|\n",
      "|   441xx|        OH|14.01|        Nov-2000|             2|\n",
      "|   226xx|        VA|26.02|        Dec-2001|             1|\n",
      "+--------+----------+-----+----------------+--------------+\n",
      "only showing top 5 rows\n",
      "\n",
      "+---------+-------------------+---------+---------------+------------------+\n",
      "|total_acc|initial_list_status|out_prncp|last_pymnt_amnt|last_credit_pull_d|\n",
      "+---------+-------------------+---------+---------------+------------------+\n",
      "|       37|                  w|     0.00|        8529.37|          Nov-2017|\n",
      "|       29|                  w| 11038.45|         363.07|          Dec-2017|\n",
      "|       23|                  w|     0.00|       23456.38|          Sep-2017|\n",
      "|       31|                  w|     0.00|       33262.93|          Mar-2016|\n",
      "|       19|                  w|     0.00|       20807.39|          Apr-2017|\n",
      "+---------+-------------------+---------+---------------+------------------+\n",
      "only showing top 5 rows\n",
      "\n",
      "+--------------------------+----------------+-------------+-------------------+--------------------+\n",
      "|collections_12_mths_ex_med|application_type|hardship_flag|disbursement_method|debt_settlement_flag|\n",
      "+--------------------------+----------------+-------------+-------------------+--------------------+\n",
      "|                         0|      Individual|            N|               Cash|                   N|\n",
      "|                         0|      Individual|            N|               Cash|                   N|\n",
      "|                         0|      Individual|            N|               Cash|                   N|\n",
      "|                         0|      Individual|            N|               Cash|                   N|\n",
      "|                         0|      Individual|            N|               Cash|                   N|\n",
      "+--------------------------+----------------+-------------+-------------------+--------------------+\n",
      "only showing top 5 rows\n",
      "\n"
     ]
    }
   ],
   "source": [
    "df_remove_na.select(categoricals[:6]).show(5)\n",
    "df_remove_na.select(categoricals[6:12]).show(5)\n",
    "df_remove_na.select(categoricals[12:17]).show(5)\n",
    "df_remove_na.select(categoricals[17:22]).show(5)\n",
    "df_remove_na.select(categoricals[22:]).show(5)"
   ]
  },
  {
   "cell_type": "markdown",
   "metadata": {},
   "source": [
    "We can see the following:\n",
    "1. *loan_status* is our label - we'll need to change it to a numeric categorical variable and move it to the first column. The reasoning will become apparent later.\n",
    "\n",
    "2. The following columns should be made numeric:\n",
    "    * term \n",
    "    * int_rate\n",
    "    * annual_inc\n",
    "    * inq_last_6mths\n",
    "    * total_acc\n",
    "    * out_prncp\n",
    "    * dti\n",
    "    * last_payment_amnt\n",
    "    * collections_12_mths_ex_med\n",
    "\n",
    "3. The following columns can be dropped:\n",
    "    * last_credit_pull_d\n",
    "    * issue_d\n",
    "    * zip_code\n",
    "    * addr_state\n",
    "    * earliest_cr_line\n",
    "    * sub_grade\n",
    "    * disbursement_method\n",
    "    \n",
    "This leaves 10 columns that are actually categorical and will need to be converted into dummy variables for our random forest."
   ]
  },
  {
   "cell_type": "markdown",
   "metadata": {},
   "source": [
    "First, let's convert to numeric.\n",
    "\n",
    "This is a little more tedious than we'd like because each column has unique properties that don't lend to updating them via a loop."
   ]
  },
  {
   "cell_type": "code",
   "execution_count": 19,
   "metadata": {},
   "outputs": [],
   "source": [
    "from pyspark.sql.functions import split\n",
    "\n",
    "split_col = split(df_remove_na['term'], ' ')\n",
    "split_int_rate = split(df_remove_na['int_rate'], '%')"
   ]
  },
  {
   "cell_type": "code",
   "execution_count": 20,
   "metadata": {},
   "outputs": [],
   "source": [
    "df_remove_na = df_remove_na.withColumn('term', split_col.getItem(1).cast(\"int\"))\n",
    "df_remove_na = df_remove_na.withColumn('int_rate', split_int_rate.getItem(0).cast(\"float\"))\n",
    "df_remove_na = df_remove_na.withColumn('annual_inc', df_remove_na['annual_inc'].cast(\"int\"))\n",
    "df_remove_na = df_remove_na.withColumn('inq_last_6mths', df_remove_na['inq_last_6mths'].cast(\"int\"))\n",
    "df_remove_na = df_remove_na.withColumn('total_acc', df_remove_na['total_acc'].cast(\"int\"))\n",
    "df_remove_na = df_remove_na.withColumn('out_prncp', df_remove_na['out_prncp'].cast(\"float\"))\n",
    "df_remove_na = df_remove_na.withColumn('dti', df_remove_na['dti'].cast(\"float\"))\n",
    "df_remove_na = df_remove_na.withColumn('last_pymnt_amnt', df_remove_na['last_pymnt_amnt'].cast(\"float\"))\n",
    "df_remove_na = df_remove_na.withColumn('collections_12_mths_ex_med', \n",
    "                                       df_remove_na['collections_12_mths_ex_med'].cast(\"int\"))"
   ]
  },
  {
   "cell_type": "markdown",
   "metadata": {},
   "source": [
    "Now we drop the remaining columns we noted above, and move the loan_status column to the first column position."
   ]
  },
  {
   "cell_type": "code",
   "execution_count": 21,
   "metadata": {},
   "outputs": [],
   "source": [
    "df_final = df_remove_na.drop('last_credit_pull_d', 'issue_d', 'zip_code', \n",
    "                             'addr_state', 'earliest_cr_line', 'disbursement_method', 'sub_grade')\n",
    "\n",
    "cols = df_final.columns\n",
    "\n",
    "cols.remove('loan_status')\n",
    "\n",
    "final_cols = []\n",
    "final_cols.append('loan_status')\n",
    "final_cols.extend(cols)\n",
    "\n",
    "df_final = df_final.select(*final_cols)"
   ]
  },
  {
   "cell_type": "code",
   "execution_count": 22,
   "metadata": {},
   "outputs": [
    {
     "name": "stdout",
     "output_type": "stream",
     "text": [
      "root\n",
      " |-- loan_status: string (nullable = true)\n",
      " |-- loan_amnt: integer (nullable = true)\n",
      " |-- funded_amnt: integer (nullable = true)\n",
      " |-- funded_amnt_inv: double (nullable = true)\n",
      " |-- term: integer (nullable = true)\n",
      " |-- int_rate: float (nullable = true)\n",
      " |-- installment: double (nullable = true)\n",
      " |-- grade: string (nullable = true)\n",
      " |-- emp_length: string (nullable = true)\n",
      " |-- home_ownership: string (nullable = true)\n",
      " |-- annual_inc: integer (nullable = true)\n",
      " |-- verification_status: string (nullable = true)\n",
      " |-- pymnt_plan: string (nullable = true)\n",
      " |-- purpose: string (nullable = true)\n",
      " |-- dti: float (nullable = true)\n",
      " |-- delinq_2yrs: double (nullable = true)\n",
      " |-- inq_last_6mths: integer (nullable = true)\n",
      " |-- open_acc: integer (nullable = true)\n",
      " |-- pub_rec: integer (nullable = true)\n",
      " |-- revol_bal: integer (nullable = true)\n",
      " |-- total_acc: integer (nullable = true)\n",
      " |-- initial_list_status: string (nullable = true)\n",
      " |-- out_prncp: float (nullable = true)\n",
      " |-- out_prncp_inv: double (nullable = true)\n",
      " |-- total_pymnt: double (nullable = true)\n",
      " |-- total_pymnt_inv: double (nullable = true)\n",
      " |-- total_rec_prncp: double (nullable = true)\n",
      " |-- total_rec_int: double (nullable = true)\n",
      " |-- total_rec_late_fee: double (nullable = true)\n",
      " |-- recoveries: double (nullable = true)\n",
      " |-- collection_recovery_fee: double (nullable = true)\n",
      " |-- last_pymnt_amnt: float (nullable = true)\n",
      " |-- collections_12_mths_ex_med: integer (nullable = true)\n",
      " |-- policy_code: integer (nullable = true)\n",
      " |-- application_type: string (nullable = true)\n",
      " |-- acc_now_delinq: integer (nullable = true)\n",
      " |-- tot_coll_amt: integer (nullable = true)\n",
      " |-- tot_cur_bal: integer (nullable = true)\n",
      " |-- total_rev_hi_lim: integer (nullable = true)\n",
      " |-- acc_open_past_24mths: integer (nullable = true)\n",
      " |-- avg_cur_bal: integer (nullable = true)\n",
      " |-- chargeoff_within_12_mths: double (nullable = true)\n",
      " |-- delinq_amnt: integer (nullable = true)\n",
      " |-- mo_sin_old_rev_tl_op: integer (nullable = true)\n",
      " |-- mo_sin_rcnt_rev_tl_op: integer (nullable = true)\n",
      " |-- mo_sin_rcnt_tl: integer (nullable = true)\n",
      " |-- mort_acc: integer (nullable = true)\n",
      " |-- num_accts_ever_120_pd: integer (nullable = true)\n",
      " |-- num_actv_bc_tl: integer (nullable = true)\n",
      " |-- num_actv_rev_tl: integer (nullable = true)\n",
      " |-- num_bc_sats: integer (nullable = true)\n",
      " |-- num_bc_tl: integer (nullable = true)\n",
      " |-- num_il_tl: integer (nullable = true)\n",
      " |-- num_op_rev_tl: integer (nullable = true)\n",
      " |-- num_rev_accts: integer (nullable = true)\n",
      " |-- num_rev_tl_bal_gt_0: integer (nullable = true)\n",
      " |-- num_sats: integer (nullable = true)\n",
      " |-- num_tl_30dpd: integer (nullable = true)\n",
      " |-- num_tl_90g_dpd_24m: integer (nullable = true)\n",
      " |-- num_tl_op_past_12m: integer (nullable = true)\n",
      " |-- pct_tl_nvr_dlq: double (nullable = true)\n",
      " |-- pub_rec_bankruptcies: integer (nullable = true)\n",
      " |-- tax_liens: integer (nullable = true)\n",
      " |-- tot_hi_cred_lim: integer (nullable = true)\n",
      " |-- total_bal_ex_mort: integer (nullable = true)\n",
      " |-- total_bc_limit: integer (nullable = true)\n",
      " |-- total_il_high_credit_limit: integer (nullable = true)\n",
      " |-- hardship_flag: string (nullable = true)\n",
      " |-- debt_settlement_flag: string (nullable = true)\n",
      "\n"
     ]
    }
   ],
   "source": [
    "df_final.printSchema()"
   ]
  },
  {
   "cell_type": "code",
   "execution_count": 23,
   "metadata": {},
   "outputs": [
    {
     "name": "stdout",
     "output_type": "stream",
     "text": [
      "+----+--------+\n",
      "|term|int_rate|\n",
      "+----+--------+\n",
      "|  60|     9.8|\n",
      "|  60|   12.88|\n",
      "|  36|   15.77|\n",
      "|  36|   10.78|\n",
      "|  36|    7.49|\n",
      "|  60|   13.99|\n",
      "|  60|   18.49|\n",
      "|  36|   10.78|\n",
      "|  60|   16.59|\n",
      "|  36|   17.27|\n",
      "+----+--------+\n",
      "only showing top 10 rows\n",
      "\n"
     ]
    }
   ],
   "source": [
    "df_final.select(['term', 'int_rate']).show(10)"
   ]
  },
  {
   "cell_type": "markdown",
   "metadata": {},
   "source": [
    "now we need to convert the categoricals to dummies"
   ]
  },
  {
   "cell_type": "code",
   "execution_count": 24,
   "metadata": {},
   "outputs": [],
   "source": [
    "categoricals = [col[0] for col in df_final.dtypes if col[1] == 'string']\n",
    "categoricals.remove('loan_status')\n",
    "uniques = [df_final.select(col).distinct().count() for col in categoricals]\n",
    "categorical_unique_counts = dict(zip(categoricals, uniques))"
   ]
  },
  {
   "cell_type": "code",
   "execution_count": 25,
   "metadata": {},
   "outputs": [
    {
     "data": {
      "text/plain": [
       "10"
      ]
     },
     "execution_count": 25,
     "metadata": {},
     "output_type": "execute_result"
    }
   ],
   "source": [
    "len(categoricals)"
   ]
  },
  {
   "cell_type": "code",
   "execution_count": 26,
   "metadata": {},
   "outputs": [
    {
     "name": "stdout",
     "output_type": "stream",
     "text": [
      "{'application_type': 2,\n",
      " 'debt_settlement_flag': 2,\n",
      " 'emp_length': 12,\n",
      " 'grade': 7,\n",
      " 'hardship_flag': 2,\n",
      " 'home_ownership': 4,\n",
      " 'initial_list_status': 2,\n",
      " 'purpose': 14,\n",
      " 'pymnt_plan': 2,\n",
      " 'verification_status': 3}\n"
     ]
    }
   ],
   "source": [
    "pprint(categorical_unique_counts)"
   ]
  },
  {
   "cell_type": "markdown",
   "metadata": {},
   "source": [
    "Most of these look good, but `emp_length` and `purpose` have a higher counts than the other variables. We should look at the labels of each variable to better understand what they are."
   ]
  },
  {
   "cell_type": "code",
   "execution_count": 27,
   "metadata": {},
   "outputs": [
    {
     "name": "stdout",
     "output_type": "stream",
     "text": [
      "['5 years',\n",
      " '9 years',\n",
      " '1 year',\n",
      " 'n/a',\n",
      " '2 years',\n",
      " '7 years',\n",
      " '8 years',\n",
      " '4 years',\n",
      " '6 years',\n",
      " '3 years',\n",
      " '10+ years',\n",
      " '< 1 year']\n",
      "['wedding',\n",
      " 'educational',\n",
      " 'other',\n",
      " 'small_business',\n",
      " 'debt_consolidation',\n",
      " 'credit_card',\n",
      " 'moving',\n",
      " 'vacation',\n",
      " 'renewable_energy',\n",
      " 'house',\n",
      " 'car',\n",
      " 'major_purchase',\n",
      " 'medical',\n",
      " 'home_improvement']\n"
     ]
    }
   ],
   "source": [
    "pprint(df_final.select('emp_length').distinct().rdd.map(lambda r: r[0]).collect())\n",
    "pprint(df_final.select('purpose').distinct().rdd.map(lambda r: r[0]).collect())"
   ]
  },
  {
   "cell_type": "markdown",
   "metadata": {},
   "source": [
    "After reviewing these,`emp_length` and `purpose` remain good candidates for dummies.\n",
    "\n",
    "Let's take a look at the data in the dummy candidates one last time."
   ]
  },
  {
   "cell_type": "code",
   "execution_count": 28,
   "metadata": {},
   "outputs": [
    {
     "name": "stdout",
     "output_type": "stream",
     "text": [
      "+-----+----------+--------------+-------------------+----------+\n",
      "|grade|emp_length|home_ownership|verification_status|pymnt_plan|\n",
      "+-----+----------+--------------+-------------------+----------+\n",
      "|    B| 10+ years|      MORTGAGE|       Not Verified|         n|\n",
      "|    C|    1 year|      MORTGAGE|       Not Verified|         n|\n",
      "|    D|   2 years|      MORTGAGE|       Not Verified|         n|\n",
      "|    B|   8 years|          RENT|    Source Verified|         n|\n",
      "|    A| 10+ years|      MORTGAGE|       Not Verified|         n|\n",
      "|    C| 10+ years|           OWN|    Source Verified|         n|\n",
      "|    D| 10+ years|      MORTGAGE|           Verified|         n|\n",
      "|    B|   3 years|          RENT|       Not Verified|         n|\n",
      "|    D|   5 years|          RENT|       Not Verified|         n|\n",
      "|    D| 10+ years|      MORTGAGE|           Verified|         n|\n",
      "+-----+----------+--------------+-------------------+----------+\n",
      "only showing top 10 rows\n",
      "\n",
      "+------------------+-------------------+----------------+-------------+--------------------+\n",
      "|           purpose|initial_list_status|application_type|hardship_flag|debt_settlement_flag|\n",
      "+------------------+-------------------+----------------+-------------+--------------------+\n",
      "|debt_consolidation|                  w|      Individual|            N|                   N|\n",
      "|debt_consolidation|                  w|      Individual|            N|                   N|\n",
      "|  home_improvement|                  w|      Individual|            N|                   N|\n",
      "|debt_consolidation|                  w|      Individual|            N|                   N|\n",
      "|debt_consolidation|                  w|      Individual|            N|                   N|\n",
      "|debt_consolidation|                  w|      Individual|            N|                   Y|\n",
      "|debt_consolidation|                  w|      Individual|            N|                   N|\n",
      "|       credit_card|                  w|      Individual|            N|                   N|\n",
      "|       credit_card|                  w|      Individual|            N|                   N|\n",
      "|             other|                  w|      Individual|            N|                   N|\n",
      "+------------------+-------------------+----------------+-------------+--------------------+\n",
      "only showing top 10 rows\n",
      "\n"
     ]
    }
   ],
   "source": [
    "df_final.select(categoricals[:5]).show(10)\n",
    "df_final.select(categoricals[5:]).show(10)"
   ]
  },
  {
   "cell_type": "markdown",
   "metadata": {},
   "source": [
    "Now we create our dummy variables.\n",
    "\n",
    "There is no `get_dummies` equivalent, so we have to make a function for ourselves."
   ]
  },
  {
   "cell_type": "code",
   "execution_count": 29,
   "metadata": {},
   "outputs": [],
   "source": [
    "from pyspark.sql import functions as F\n",
    " \n",
    "def create_dummies(df,dummylist):\n",
    "    for inputcol in dummylist:\n",
    "        categories = df.select(inputcol).rdd.distinct().flatMap(lambda x: x).collect()\n",
    "        exprs = [F.when(F.col(inputcol) == category, 1).otherwise(0).alias(category) for category in categories]\n",
    "        for index,column in enumerate(exprs):\n",
    "            df=df.withColumn(inputcol+str(index),column)\n",
    "    return df\n",
    "\n",
    "df_final = create_dummies(df_final, categoricals)"
   ]
  },
  {
   "cell_type": "markdown",
   "metadata": {},
   "source": [
    "Let's take a look at the categoricals and see if they've been recoded to numbers.\n",
    "\n",
    "We see the updated dummy columns appended after the last column.\n",
    "\n",
    "We can drop our string categoricals now."
   ]
  },
  {
   "cell_type": "code",
   "execution_count": 30,
   "metadata": {},
   "outputs": [
    {
     "name": "stdout",
     "output_type": "stream",
     "text": [
      "root\n",
      " |-- loan_status: string (nullable = true)\n",
      " |-- loan_amnt: integer (nullable = true)\n",
      " |-- funded_amnt: integer (nullable = true)\n",
      " |-- funded_amnt_inv: double (nullable = true)\n",
      " |-- term: integer (nullable = true)\n",
      " |-- int_rate: float (nullable = true)\n",
      " |-- installment: double (nullable = true)\n",
      " |-- grade: string (nullable = true)\n",
      " |-- emp_length: string (nullable = true)\n",
      " |-- home_ownership: string (nullable = true)\n",
      " |-- annual_inc: integer (nullable = true)\n",
      " |-- verification_status: string (nullable = true)\n",
      " |-- pymnt_plan: string (nullable = true)\n",
      " |-- purpose: string (nullable = true)\n",
      " |-- dti: float (nullable = true)\n",
      " |-- delinq_2yrs: double (nullable = true)\n",
      " |-- inq_last_6mths: integer (nullable = true)\n",
      " |-- open_acc: integer (nullable = true)\n",
      " |-- pub_rec: integer (nullable = true)\n",
      " |-- revol_bal: integer (nullable = true)\n",
      " |-- total_acc: integer (nullable = true)\n",
      " |-- initial_list_status: string (nullable = true)\n",
      " |-- out_prncp: float (nullable = true)\n",
      " |-- out_prncp_inv: double (nullable = true)\n",
      " |-- total_pymnt: double (nullable = true)\n",
      " |-- total_pymnt_inv: double (nullable = true)\n",
      " |-- total_rec_prncp: double (nullable = true)\n",
      " |-- total_rec_int: double (nullable = true)\n",
      " |-- total_rec_late_fee: double (nullable = true)\n",
      " |-- recoveries: double (nullable = true)\n",
      " |-- collection_recovery_fee: double (nullable = true)\n",
      " |-- last_pymnt_amnt: float (nullable = true)\n",
      " |-- collections_12_mths_ex_med: integer (nullable = true)\n",
      " |-- policy_code: integer (nullable = true)\n",
      " |-- application_type: string (nullable = true)\n",
      " |-- acc_now_delinq: integer (nullable = true)\n",
      " |-- tot_coll_amt: integer (nullable = true)\n",
      " |-- tot_cur_bal: integer (nullable = true)\n",
      " |-- total_rev_hi_lim: integer (nullable = true)\n",
      " |-- acc_open_past_24mths: integer (nullable = true)\n",
      " |-- avg_cur_bal: integer (nullable = true)\n",
      " |-- chargeoff_within_12_mths: double (nullable = true)\n",
      " |-- delinq_amnt: integer (nullable = true)\n",
      " |-- mo_sin_old_rev_tl_op: integer (nullable = true)\n",
      " |-- mo_sin_rcnt_rev_tl_op: integer (nullable = true)\n",
      " |-- mo_sin_rcnt_tl: integer (nullable = true)\n",
      " |-- mort_acc: integer (nullable = true)\n",
      " |-- num_accts_ever_120_pd: integer (nullable = true)\n",
      " |-- num_actv_bc_tl: integer (nullable = true)\n",
      " |-- num_actv_rev_tl: integer (nullable = true)\n",
      " |-- num_bc_sats: integer (nullable = true)\n",
      " |-- num_bc_tl: integer (nullable = true)\n",
      " |-- num_il_tl: integer (nullable = true)\n",
      " |-- num_op_rev_tl: integer (nullable = true)\n",
      " |-- num_rev_accts: integer (nullable = true)\n",
      " |-- num_rev_tl_bal_gt_0: integer (nullable = true)\n",
      " |-- num_sats: integer (nullable = true)\n",
      " |-- num_tl_30dpd: integer (nullable = true)\n",
      " |-- num_tl_90g_dpd_24m: integer (nullable = true)\n",
      " |-- num_tl_op_past_12m: integer (nullable = true)\n",
      " |-- pct_tl_nvr_dlq: double (nullable = true)\n",
      " |-- pub_rec_bankruptcies: integer (nullable = true)\n",
      " |-- tax_liens: integer (nullable = true)\n",
      " |-- tot_hi_cred_lim: integer (nullable = true)\n",
      " |-- total_bal_ex_mort: integer (nullable = true)\n",
      " |-- total_bc_limit: integer (nullable = true)\n",
      " |-- total_il_high_credit_limit: integer (nullable = true)\n",
      " |-- hardship_flag: string (nullable = true)\n",
      " |-- debt_settlement_flag: string (nullable = true)\n",
      " |-- grade0: integer (nullable = false)\n",
      " |-- grade1: integer (nullable = false)\n",
      " |-- grade2: integer (nullable = false)\n",
      " |-- grade3: integer (nullable = false)\n",
      " |-- grade4: integer (nullable = false)\n",
      " |-- grade5: integer (nullable = false)\n",
      " |-- grade6: integer (nullable = false)\n",
      " |-- emp_length0: integer (nullable = false)\n",
      " |-- emp_length1: integer (nullable = false)\n",
      " |-- emp_length2: integer (nullable = false)\n",
      " |-- emp_length3: integer (nullable = false)\n",
      " |-- emp_length4: integer (nullable = false)\n",
      " |-- emp_length5: integer (nullable = false)\n",
      " |-- emp_length6: integer (nullable = false)\n",
      " |-- emp_length7: integer (nullable = false)\n",
      " |-- emp_length8: integer (nullable = false)\n",
      " |-- emp_length9: integer (nullable = false)\n",
      " |-- emp_length10: integer (nullable = false)\n",
      " |-- emp_length11: integer (nullable = false)\n",
      " |-- home_ownership0: integer (nullable = false)\n",
      " |-- home_ownership1: integer (nullable = false)\n",
      " |-- home_ownership2: integer (nullable = false)\n",
      " |-- home_ownership3: integer (nullable = false)\n",
      " |-- verification_status0: integer (nullable = false)\n",
      " |-- verification_status1: integer (nullable = false)\n",
      " |-- verification_status2: integer (nullable = false)\n",
      " |-- pymnt_plan0: integer (nullable = false)\n",
      " |-- pymnt_plan1: integer (nullable = false)\n",
      " |-- purpose0: integer (nullable = false)\n",
      " |-- purpose1: integer (nullable = false)\n",
      " |-- purpose2: integer (nullable = false)\n",
      " |-- purpose3: integer (nullable = false)\n",
      " |-- purpose4: integer (nullable = false)\n",
      " |-- purpose5: integer (nullable = false)\n",
      " |-- purpose6: integer (nullable = false)\n",
      " |-- purpose7: integer (nullable = false)\n",
      " |-- purpose8: integer (nullable = false)\n",
      " |-- purpose9: integer (nullable = false)\n",
      " |-- purpose10: integer (nullable = false)\n",
      " |-- purpose11: integer (nullable = false)\n",
      " |-- purpose12: integer (nullable = false)\n",
      " |-- purpose13: integer (nullable = false)\n",
      " |-- initial_list_status0: integer (nullable = false)\n",
      " |-- initial_list_status1: integer (nullable = false)\n",
      " |-- application_type0: integer (nullable = false)\n",
      " |-- application_type1: integer (nullable = false)\n",
      " |-- hardship_flag0: integer (nullable = false)\n",
      " |-- hardship_flag1: integer (nullable = false)\n",
      " |-- debt_settlement_flag0: integer (nullable = false)\n",
      " |-- debt_settlement_flag1: integer (nullable = false)\n",
      "\n"
     ]
    }
   ],
   "source": [
    "df_final.printSchema()"
   ]
  },
  {
   "cell_type": "code",
   "execution_count": 31,
   "metadata": {},
   "outputs": [],
   "source": [
    "df_final = df_final.drop(*categoricals)"
   ]
  },
  {
   "cell_type": "markdown",
   "metadata": {},
   "source": [
    "If that drop worked, then we should only have one string column remaining - `loan_status`. Let's check that."
   ]
  },
  {
   "cell_type": "code",
   "execution_count": 32,
   "metadata": {},
   "outputs": [
    {
     "name": "stdout",
     "output_type": "stream",
     "text": [
      "['loan_status']\n"
     ]
    }
   ],
   "source": [
    "pprint([col[0] for col in df_final.dtypes if col[1] == 'string'])"
   ]
  },
  {
   "cell_type": "markdown",
   "metadata": {},
   "source": [
    "Before we move on, let's just do a quick frequency plot of the loan status so we can better understand what we are working with."
   ]
  },
  {
   "cell_type": "code",
   "execution_count": 33,
   "metadata": {},
   "outputs": [],
   "source": [
    "from matplotlib import pyplot as plt\n",
    "import numpy as np\n",
    "import functools\n",
    "%matplotlib inline"
   ]
  },
  {
   "cell_type": "code",
   "execution_count": 34,
   "metadata": {},
   "outputs": [
    {
     "data": {
      "text/plain": [
       "([<matplotlib.axis.XTick at 0x7fd48f0d4b70>,\n",
       "  <matplotlib.axis.XTick at 0x7fd48d3b89e8>,\n",
       "  <matplotlib.axis.XTick at 0x7fd48d3a90b8>,\n",
       "  <matplotlib.axis.XTick at 0x7fd48d373b00>,\n",
       "  <matplotlib.axis.XTick at 0x7fd48d382198>,\n",
       "  <matplotlib.axis.XTick at 0x7fd48d382828>,\n",
       "  <matplotlib.axis.XTick at 0x7fd48d382eb8>],\n",
       " <a list of 7 Text xticklabel objects>)"
      ]
     },
     "execution_count": 34,
     "metadata": {},
     "output_type": "execute_result"
    },
    {
     "data": {
      "image/png": "[encoded data removed]",
      "text/plain": [
       "<matplotlib.figure.Figure at 0x7fd48d401a90>"
      ]
     },
     "metadata": {},
     "output_type": "display_data"
    }
   ],
   "source": [
    "plt.rcParams['figure.figsize'] = (15, 6)\n",
    " \n",
    "statuses = df_final.groupBy('loan_status').count().collect()\n",
    "categories = [i[0] for i in statuses]\n",
    "counts = [i[1] for i in statuses]\n",
    " \n",
    "ind = np.array(range(len(categories)))\n",
    "width = 0.35\n",
    "plt.bar(ind, counts, width=width, color='r')\n",
    " \n",
    "plt.ylabel('counts')\n",
    "plt.title('Status distribution')\n",
    "plt.xticks(ind + width/2., categories)"
   ]
  },
  {
   "cell_type": "markdown",
   "metadata": {},
   "source": [
    "To set up our random forest, we need to do some final transformations and build a pipeline.\n"
   ]
  },
  {
   "cell_type": "markdown",
   "metadata": {},
   "source": [
    "First, we need to convert our response variable (`loan_status`) into a numerical variable called `label`\n",
    "\n",
    "(`label` is simply a standard you'll see in Spark)"
   ]
  },
  {
   "cell_type": "code",
   "execution_count": 35,
   "metadata": {},
   "outputs": [],
   "source": [
    "labelIndexer = StringIndexer(inputCol=\"loan_status\", outputCol=\"indexedLabel\").fit(df_final)\n",
    "\n",
    "feature_cols = [col[0] for col in df_final.dtypes if col[1] != 'string']\n",
    "\n",
    "df_final = VectorAssembler(inputCols=feature_cols, outputCol=\"features\").transform(df_final)\n",
    "\n",
    "featureIndexer =\\\n",
    "    VectorIndexer(inputCol=\"features\", outputCol=\"indexedFeatures\", maxCategories=4).fit(df_final)\n",
    "\n",
    "# Split the data into training and test sets (30% held out for testing)\n",
    "(trainingData, testData) = df_final.randomSplit([TRAINING_DATA_RATIO, 1 - TRAINING_DATA_RATIO])\n",
    "\n",
    "# Train a RandomForest model.\n",
    "rf = RandomForestClassifier(labelCol=\"indexedLabel\", featuresCol=\"indexedFeatures\", numTrees=RF_NUM_TREES)\n",
    "\n",
    "# Convert indexed labels back to original labels.\n",
    "labelConverter = IndexToString(inputCol=\"prediction\", outputCol=\"predictedLabel\",\n",
    "                               labels=labelIndexer.labels)\n",
    "\n",
    "# Chain indexers and forest in a Pipeline\n",
    "pipeline = Pipeline(stages=[labelIndexer, featureIndexer, rf, labelConverter])"
   ]
  },
  {
   "cell_type": "code",
   "execution_count": 38,
   "metadata": {},
   "outputs": [],
   "source": [
    "# Train model.  This also runs the indexers.\n",
    "model = pipeline.fit(trainingData)"
   ]
  },
  {
   "cell_type": "code",
   "execution_count": 39,
   "metadata": {},
   "outputs": [],
   "source": [
    "# Make predictions.\n",
    "predictions = model.transform(testData)"
   ]
  },
  {
   "cell_type": "code",
   "execution_count": 47,
   "metadata": {},
   "outputs": [
    {
     "name": "stdout",
     "output_type": "stream",
     "text": [
      "+--------------+-----------+------------+----------+--------------------+\n",
      "|predictedLabel|loan_status|indexedLabel|prediction|            features|\n",
      "+--------------+-----------+------------+----------+--------------------+\n",
      "|   Charged Off|Charged Off|         2.0|       2.0|(108,[0,1,2,3,4,5...|\n",
      "|    Fully Paid|Charged Off|         2.0|       1.0|(108,[0,1,2,3,4,5...|\n",
      "|    Fully Paid|Charged Off|         2.0|       1.0|(108,[0,1,2,3,4,5...|\n",
      "|    Fully Paid|Charged Off|         2.0|       1.0|(108,[0,1,2,3,4,5...|\n",
      "|   Charged Off|Charged Off|         2.0|       2.0|(108,[0,1,2,3,4,5...|\n",
      "+--------------+-----------+------------+----------+--------------------+\n",
      "only showing top 5 rows\n",
      "\n"
     ]
    }
   ],
   "source": [
    "# Select example rows to display.\n",
    "predictions.select(\"predictedLabel\", \"loan_status\", \"indexedLabel\", \"prediction\", \"features\").show(5)"
   ]
  },
  {
   "cell_type": "code",
   "execution_count": 46,
   "metadata": {},
   "outputs": [
    {
     "name": "stdout",
     "output_type": "stream",
     "text": [
      "Test Error = 0.0540106\n",
      "Accuracy = 0.945989\n"
     ]
    }
   ],
   "source": [
    "# Select (prediction, true label) and compute test error\n",
    "evaluator = MulticlassClassificationEvaluator(\n",
    "    labelCol=\"indexedLabel\", predictionCol=\"prediction\", metricName=\"accuracy\")\n",
    "accuracy = evaluator.evaluate(predictions)\n",
    "print(\"Test Error = %g\" % (1.0 - accuracy))\n",
    "print(\"Accuracy = %g\" % accuracy)"
   ]
  },
  {
   "cell_type": "code",
   "execution_count": 45,
   "metadata": {},
   "outputs": [
    {
     "name": "stdout",
     "output_type": "stream",
     "text": [
      "RandomForestClassificationModel (uid=RandomForestClassifier_45cfbf2e96c034a3cd7f) with 10 trees\n"
     ]
    }
   ],
   "source": [
    "rfModel = model.stages[2]\n",
    "print(rfModel)  # summary only"
   ]
  },
  {
   "cell_type": "code",
   "execution_count": null,
   "metadata": {},
   "outputs": [],
   "source": [
    "indexer = StringIndexer(inputCol=\"loan_status\", outputCol=\"label\")\n",
    "indexed = indexer.fit(df_final).transform(df_final)\n",
    "indexed.select('loan_status', 'label').show(25)"
   ]
  }
 ],
 "metadata": {
  "kernelspec": {
   "display_name": "Python 3",
   "language": "python",
   "name": "python3"
  },
  "language_info": {
   "codemirror_mode": {
    "name": "ipython",
    "version": 3
   },
   "file_extension": ".py",
   "mimetype": "text/x-python",
   "name": "python",
   "nbconvert_exporter": "python",
   "pygments_lexer": "ipython3",
   "version": "3.6.3"
  }
 },
 "nbformat": 4,
 "nbformat_minor": 2
}
