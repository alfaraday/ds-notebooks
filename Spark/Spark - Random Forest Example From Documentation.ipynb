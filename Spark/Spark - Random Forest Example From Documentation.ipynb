{
 "cells": [
  {
   "cell_type": "code",
   "execution_count": 1,
   "metadata": {},
   "outputs": [],
   "source": [
    "import pyspark\n",
    "\n",
    "from pyspark.sql import SQLContext\n",
    "\n",
    "from pyspark.ml import Pipeline\n",
    "from pyspark.ml.classification import RandomForestClassifier\n",
    "from pyspark.ml.feature import IndexToString, StringIndexer, VectorIndexer\n",
    "from pyspark.ml.evaluation import MulticlassClassificationEvaluator"
   ]
  },
  {
   "cell_type": "code",
   "execution_count": 2,
   "metadata": {},
   "outputs": [],
   "source": [
    "sc = pyspark.SparkContext('local[*]')\n",
    "sql = SQLContext(sc)"
   ]
  },
  {
   "cell_type": "code",
   "execution_count": 3,
   "metadata": {},
   "outputs": [],
   "source": [
    "# Load and parse the data file, converting it to a DataFrame.\n",
    "data = sql.read.format(\"libsvm\").load(\"/usr/local/spark-2.2.1-bin-hadoop2.7/data/mllib/sample_libsvm_data.txt\")"
   ]
  },
  {
   "cell_type": "code",
   "execution_count": 4,
   "metadata": {},
   "outputs": [
    {
     "name": "stdout",
     "output_type": "stream",
     "text": [
      "root\n",
      " |-- label: double (nullable = true)\n",
      " |-- features: vector (nullable = true)\n",
      "\n"
     ]
    }
   ],
   "source": [
    "data.printSchema()"
   ]
  },
  {
   "cell_type": "code",
   "execution_count": 5,
   "metadata": {},
   "outputs": [
    {
     "data": {
      "text/plain": [
       "Row(label=0.0, features=SparseVector(692, {127: 51.0, 128: 159.0, 129: 253.0, 130: 159.0, 131: 50.0, 154: 48.0, 155: 238.0, 156: 252.0, 157: 252.0, 158: 252.0, 159: 237.0, 181: 54.0, 182: 227.0, 183: 253.0, 184: 252.0, 185: 239.0, 186: 233.0, 187: 252.0, 188: 57.0, 189: 6.0, 207: 10.0, 208: 60.0, 209: 224.0, 210: 252.0, 211: 253.0, 212: 252.0, 213: 202.0, 214: 84.0, 215: 252.0, 216: 253.0, 217: 122.0, 235: 163.0, 236: 252.0, 237: 252.0, 238: 252.0, 239: 253.0, 240: 252.0, 241: 252.0, 242: 96.0, 243: 189.0, 244: 253.0, 245: 167.0, 262: 51.0, 263: 238.0, 264: 253.0, 265: 253.0, 266: 190.0, 267: 114.0, 268: 253.0, 269: 228.0, 270: 47.0, 271: 79.0, 272: 255.0, 273: 168.0, 289: 48.0, 290: 238.0, 291: 252.0, 292: 252.0, 293: 179.0, 294: 12.0, 295: 75.0, 296: 121.0, 297: 21.0, 300: 253.0, 301: 243.0, 302: 50.0, 316: 38.0, 317: 165.0, 318: 253.0, 319: 233.0, 320: 208.0, 321: 84.0, 328: 253.0, 329: 252.0, 330: 165.0, 343: 7.0, 344: 178.0, 345: 252.0, 346: 240.0, 347: 71.0, 348: 19.0, 349: 28.0, 356: 253.0, 357: 252.0, 358: 195.0, 371: 57.0, 372: 252.0, 373: 252.0, 374: 63.0, 384: 253.0, 385: 252.0, 386: 195.0, 399: 198.0, 400: 253.0, 401: 190.0, 412: 255.0, 413: 253.0, 414: 196.0, 426: 76.0, 427: 246.0, 428: 252.0, 429: 112.0, 440: 253.0, 441: 252.0, 442: 148.0, 454: 85.0, 455: 252.0, 456: 230.0, 457: 25.0, 466: 7.0, 467: 135.0, 468: 253.0, 469: 186.0, 470: 12.0, 482: 85.0, 483: 252.0, 484: 223.0, 493: 7.0, 494: 131.0, 495: 252.0, 496: 225.0, 497: 71.0, 510: 85.0, 511: 252.0, 512: 145.0, 520: 48.0, 521: 165.0, 522: 252.0, 523: 173.0, 538: 86.0, 539: 253.0, 540: 225.0, 547: 114.0, 548: 238.0, 549: 253.0, 550: 162.0, 566: 85.0, 567: 252.0, 568: 249.0, 569: 146.0, 570: 48.0, 571: 29.0, 572: 85.0, 573: 178.0, 574: 225.0, 575: 253.0, 576: 223.0, 577: 167.0, 578: 56.0, 594: 85.0, 595: 252.0, 596: 252.0, 597: 252.0, 598: 229.0, 599: 215.0, 600: 252.0, 601: 252.0, 602: 252.0, 603: 196.0, 604: 130.0, 622: 28.0, 623: 199.0, 624: 252.0, 625: 252.0, 626: 253.0, 627: 252.0, 628: 252.0, 629: 233.0, 630: 145.0, 651: 25.0, 652: 128.0, 653: 252.0, 654: 253.0, 655: 252.0, 656: 141.0, 657: 37.0}))"
      ]
     },
     "execution_count": 5,
     "metadata": {},
     "output_type": "execute_result"
    }
   ],
   "source": [
    "data.head()"
   ]
  },
  {
   "cell_type": "code",
   "execution_count": 6,
   "metadata": {},
   "outputs": [],
   "source": [
    "# Index labels, adding metadata to the label column.\n",
    "# Fit on whole dataset to include all labels in index.\n",
    "labelIndexer = StringIndexer(inputCol=\"label\", outputCol=\"indexedLabel\").fit(data)"
   ]
  },
  {
   "cell_type": "code",
   "execution_count": 11,
   "metadata": {},
   "outputs": [],
   "source": [
    "# Automatically identify categorical features, and index them.\n",
    "# Set maxCategories so features with > 4 distinct values are treated as continuous.\n",
    "featureIndexer =\\\n",
    "    VectorIndexer(inputCol=\"features\", outputCol=\"indexedFeatures\", maxCategories=4).fit(data)"
   ]
  },
  {
   "cell_type": "code",
   "execution_count": 12,
   "metadata": {},
   "outputs": [],
   "source": [
    "# Split the data into training and test sets (30% held out for testing)\n",
    "(trainingData, testData) = data.randomSplit([0.7, 0.3])"
   ]
  },
  {
   "cell_type": "code",
   "execution_count": 13,
   "metadata": {},
   "outputs": [],
   "source": [
    "# Train a RandomForest model.\n",
    "rf = RandomForestClassifier(labelCol=\"indexedLabel\", featuresCol=\"indexedFeatures\", numTrees=10)"
   ]
  },
  {
   "cell_type": "code",
   "execution_count": 14,
   "metadata": {},
   "outputs": [],
   "source": [
    "# Convert indexed labels back to original labels.\n",
    "labelConverter = IndexToString(inputCol=\"prediction\", outputCol=\"predictedLabel\",\n",
    "                               labels=labelIndexer.labels)"
   ]
  },
  {
   "cell_type": "code",
   "execution_count": 15,
   "metadata": {},
   "outputs": [],
   "source": [
    "# Chain indexers and forest in a Pipeline\n",
    "pipeline = Pipeline(stages=[labelIndexer, featureIndexer, rf, labelConverter])"
   ]
  },
  {
   "cell_type": "code",
   "execution_count": 16,
   "metadata": {},
   "outputs": [],
   "source": [
    "# Train model.  This also runs the indexers.\n",
    "model = pipeline.fit(trainingData)"
   ]
  },
  {
   "cell_type": "code",
   "execution_count": 17,
   "metadata": {},
   "outputs": [],
   "source": [
    "# Make predictions.\n",
    "predictions = model.transform(testData)"
   ]
  },
  {
   "cell_type": "code",
   "execution_count": 18,
   "metadata": {},
   "outputs": [
    {
     "data": {
      "text/plain": [
       "Row(label=0.0, features=SparseVector(692, {95: 56.0, 96: 247.0, 97: 121.0, 123: 24.0, 124: 242.0, 125: 245.0, 126: 122.0, 152: 231.0, 153: 253.0, 154: 253.0, 155: 104.0, 156: 12.0, 180: 90.0, 181: 253.0, 182: 253.0, 183: 254.0, 184: 221.0, 185: 120.0, 186: 120.0, 187: 85.0, 205: 67.0, 206: 75.0, 207: 36.0, 208: 11.0, 209: 56.0, 210: 222.0, 211: 254.0, 212: 253.0, 213: 253.0, 214: 253.0, 215: 245.0, 216: 207.0, 217: 36.0, 232: 86.0, 233: 245.0, 234: 249.0, 235: 105.0, 238: 44.0, 239: 224.0, 240: 230.0, 241: 253.0, 242: 253.0, 243: 253.0, 244: 253.0, 245: 214.0, 246: 10.0, 259: 8.0, 260: 191.0, 261: 253.0, 262: 143.0, 268: 29.0, 269: 119.0, 270: 119.0, 271: 158.0, 272: 253.0, 273: 253.0, 274: 94.0, 287: 15.0, 288: 253.0, 289: 226.0, 290: 48.0, 299: 4.0, 300: 183.0, 301: 253.0, 302: 248.0, 303: 56.0, 315: 42.0, 316: 253.0, 317: 178.0, 328: 179.0, 329: 253.0, 330: 184.0, 331: 14.0, 343: 164.0, 344: 253.0, 345: 178.0, 356: 179.0, 357: 253.0, 358: 163.0, 370: 61.0, 371: 254.0, 372: 254.0, 373: 179.0, 383: 76.0, 384: 254.0, 385: 254.0, 386: 164.0, 398: 60.0, 399: 253.0, 400: 253.0, 401: 178.0, 410: 29.0, 411: 206.0, 412: 253.0, 413: 253.0, 414: 40.0, 426: 60.0, 427: 253.0, 428: 253.0, 429: 178.0, 438: 120.0, 439: 253.0, 440: 253.0, 441: 245.0, 442: 13.0, 454: 60.0, 455: 253.0, 456: 253.0, 457: 178.0, 466: 120.0, 467: 253.0, 468: 239.0, 469: 63.0, 482: 60.0, 483: 253.0, 484: 253.0, 485: 178.0, 493: 14.0, 494: 238.0, 495: 253.0, 496: 179.0, 510: 18.0, 511: 190.0, 512: 253.0, 513: 231.0, 514: 70.0, 520: 43.0, 521: 184.0, 522: 253.0, 523: 253.0, 524: 74.0, 539: 86.0, 540: 253.0, 541: 253.0, 542: 239.0, 543: 134.0, 544: 8.0, 547: 56.0, 548: 163.0, 549: 253.0, 550: 253.0, 551: 213.0, 552: 35.0, 567: 16.0, 568: 253.0, 569: 253.0, 570: 253.0, 571: 253.0, 572: 240.0, 573: 239.0, 574: 239.0, 575: 247.0, 576: 253.0, 577: 253.0, 578: 210.0, 579: 27.0, 595: 4.0, 596: 59.0, 597: 204.0, 598: 253.0, 599: 253.0, 600: 253.0, 601: 253.0, 602: 253.0, 603: 254.0, 604: 253.0, 605: 250.0, 606: 110.0, 625: 31.0, 626: 122.0, 627: 253.0, 628: 253.0, 629: 253.0, 630: 253.0, 631: 255.0, 632: 217.0, 633: 98.0}), indexedLabel=1.0, indexedFeatures=SparseVector(692, {95: 1.0, 96: 1.0, 97: 2.0, 123: 24.0, 124: 242.0, 125: 245.0, 126: 122.0, 152: 231.0, 153: 253.0, 154: 253.0, 155: 104.0, 156: 12.0, 180: 90.0, 181: 253.0, 182: 253.0, 183: 254.0, 184: 221.0, 185: 120.0, 186: 120.0, 187: 85.0, 205: 67.0, 206: 75.0, 207: 36.0, 208: 11.0, 209: 56.0, 210: 222.0, 211: 254.0, 212: 253.0, 213: 253.0, 214: 253.0, 215: 245.0, 216: 207.0, 217: 36.0, 232: 86.0, 233: 245.0, 234: 249.0, 235: 105.0, 238: 44.0, 239: 224.0, 240: 230.0, 241: 253.0, 242: 253.0, 243: 253.0, 244: 253.0, 245: 214.0, 246: 10.0, 259: 8.0, 260: 191.0, 261: 253.0, 262: 143.0, 268: 29.0, 269: 119.0, 270: 119.0, 271: 158.0, 272: 253.0, 273: 253.0, 274: 94.0, 287: 15.0, 288: 253.0, 289: 226.0, 290: 48.0, 299: 4.0, 300: 183.0, 301: 253.0, 302: 248.0, 303: 56.0, 315: 42.0, 316: 253.0, 317: 178.0, 328: 179.0, 329: 253.0, 330: 184.0, 331: 14.0, 343: 164.0, 344: 253.0, 345: 178.0, 356: 179.0, 357: 253.0, 358: 163.0, 370: 61.0, 371: 254.0, 372: 254.0, 373: 179.0, 383: 76.0, 384: 254.0, 385: 254.0, 386: 164.0, 398: 60.0, 399: 253.0, 400: 253.0, 401: 178.0, 410: 29.0, 411: 206.0, 412: 253.0, 413: 253.0, 414: 40.0, 426: 60.0, 427: 253.0, 428: 253.0, 429: 178.0, 438: 120.0, 439: 253.0, 440: 253.0, 441: 245.0, 442: 13.0, 454: 60.0, 455: 253.0, 456: 253.0, 457: 178.0, 466: 120.0, 467: 253.0, 468: 239.0, 469: 63.0, 482: 60.0, 483: 253.0, 484: 253.0, 485: 178.0, 493: 14.0, 494: 238.0, 495: 253.0, 496: 179.0, 510: 18.0, 511: 190.0, 512: 253.0, 513: 231.0, 514: 70.0, 520: 43.0, 521: 184.0, 522: 253.0, 523: 253.0, 524: 74.0, 539: 86.0, 540: 253.0, 541: 253.0, 542: 239.0, 543: 134.0, 544: 8.0, 547: 56.0, 548: 163.0, 549: 253.0, 550: 253.0, 551: 213.0, 552: 35.0, 567: 16.0, 568: 253.0, 569: 253.0, 570: 253.0, 571: 253.0, 572: 240.0, 573: 239.0, 574: 239.0, 575: 247.0, 576: 253.0, 577: 253.0, 578: 210.0, 579: 27.0, 595: 4.0, 596: 59.0, 597: 204.0, 598: 253.0, 599: 253.0, 600: 253.0, 601: 253.0, 602: 253.0, 603: 254.0, 604: 253.0, 605: 250.0, 606: 110.0, 625: 31.0, 626: 122.0, 627: 253.0, 628: 253.0, 629: 253.0, 630: 253.0, 631: 255.0, 632: 217.0, 633: 98.0}), rawPrediction=DenseVector([0.0, 10.0]), probability=DenseVector([0.0, 1.0]), prediction=1.0, predictedLabel='0.0')"
      ]
     },
     "execution_count": 18,
     "metadata": {},
     "output_type": "execute_result"
    }
   ],
   "source": [
    "predictions.head()"
   ]
  },
  {
   "cell_type": "code",
   "execution_count": 19,
   "metadata": {},
   "outputs": [
    {
     "name": "stdout",
     "output_type": "stream",
     "text": [
      "+--------------+-----+--------------------+\n",
      "|predictedLabel|label|            features|\n",
      "+--------------+-----+--------------------+\n",
      "|           0.0|  0.0|(692,[95,96,97,12...|\n",
      "|           0.0|  0.0|(692,[98,99,100,1...|\n",
      "|           0.0|  0.0|(692,[122,123,124...|\n",
      "|           0.0|  0.0|(692,[122,123,148...|\n",
      "|           0.0|  0.0|(692,[124,125,126...|\n",
      "+--------------+-----+--------------------+\n",
      "only showing top 5 rows\n",
      "\n"
     ]
    }
   ],
   "source": [
    "# Select example rows to display.\n",
    "predictions.select(\"predictedLabel\", \"label\", \"features\").show(5)"
   ]
  },
  {
   "cell_type": "code",
   "execution_count": null,
   "metadata": {},
   "outputs": [],
   "source": [
    "# Select (prediction, true label) and compute test error\n",
    "evaluator = MulticlassClassificationEvaluator(\n",
    "    labelCol=\"indexedLabel\", predictionCol=\"prediction\", metricName=\"accuracy\")\n",
    "accuracy = evaluator.evaluate(predictions)\n",
    "print(\"Test Error = %g\" % (1.0 - accuracy))"
   ]
  },
  {
   "cell_type": "code",
   "execution_count": null,
   "metadata": {},
   "outputs": [],
   "source": [
    "rfModel = model.stages[2]\n",
    "print(rfModel)  # summary only"
   ]
  },
  {
   "cell_type": "code",
   "execution_count": null,
   "metadata": {},
   "outputs": [],
   "source": []
  }
 ],
 "metadata": {
  "kernelspec": {
   "display_name": "Python 3",
   "language": "python",
   "name": "python3"
  },
  "language_info": {
   "codemirror_mode": {
    "name": "ipython",
    "version": 3
   },
   "file_extension": ".py",
   "mimetype": "text/x-python",
   "name": "python",
   "nbconvert_exporter": "python",
   "pygments_lexer": "ipython3",
   "version": "3.6.3"
  }
 },
 "nbformat": 4,
 "nbformat_minor": 2
}
