{
 "cells": [
  {
   "cell_type": "markdown",
   "metadata": {},
   "source": [
    "Testing our Web Server Hypothesis on Batch Data\n",
    "--------------------------------------------\n",
    "\n",
    "Before we dive into streaming our datasets, we first want to examine the dataset to find which devices are web servers. We'll take a similar approach to what we did with the streaming data walkthrough earlier."
   ]
  },
  {
   "cell_type": "code",
   "execution_count": 1,
   "metadata": {},
   "outputs": [],
   "source": [
    "# these imports allow us to set up our Python connection to the Spark server.\n",
    "# it also allows us to load a dataframe.\n",
    "from pyspark import SparkContext\n",
    "from pyspark.sql import SparkSession\n",
    "\n",
    "from pyspark.sql.functions import desc"
   ]
  },
  {
   "cell_type": "code",
   "execution_count": 2,
   "metadata": {},
   "outputs": [],
   "source": [
    "CSV_PATH = \"./netflow_d02tinyh.csv\"\n",
    "APP_NAME = \"Web Server Hypothesis Test\"\n",
    "SPARK_URL = \"local[*]\""
   ]
  },
  {
   "cell_type": "code",
   "execution_count": 3,
   "metadata": {},
   "outputs": [],
   "source": [
    "spark = SparkSession.builder.appName(APP_NAME).master(SPARK_URL).getOrCreate()\n",
    "\n",
    "df = spark.read.options(header = 'true', inferschema = 'true').csv(CSV_PATH)"
   ]
  },
  {
   "cell_type": "code",
   "execution_count": 5,
   "metadata": {},
   "outputs": [
    {
     "name": "stdout",
     "output_type": "stream",
     "text": [
      "+-------------------+-----+\n",
      "|          DstDevice|count|\n",
      "+-------------------+-----+\n",
      "|         Comp576843| 3258|\n",
      "|EnterpriseAppServer| 1721|\n",
      "|         Comp611862|  901|\n",
      "|         Comp574103|  590|\n",
      "|         Comp184712|  310|\n",
      "|         Comp370444|  267|\n",
      "|         Comp253298|  154|\n",
      "|         Comp523500|  131|\n",
      "|         Comp457448|  129|\n",
      "|         Comp708267|  121|\n",
      "+-------------------+-----+\n",
      "only showing top 10 rows\n",
      "\n"
     ]
    }
   ],
   "source": [
    "df.select('DstDevice').where(df['DstPort'] == 80).groupby('DstDevice').count().sort(desc('count')).show(10)"
   ]
  },
  {
   "cell_type": "markdown",
   "metadata": {},
   "source": [
    "So - there it is - our top 10 devices that look to be web servers.\n",
    "Let's move on to streaming."
   ]
  },
  {
   "cell_type": "code",
   "execution_count": null,
   "metadata": {},
   "outputs": [],
   "source": []
  }
 ],
 "metadata": {
  "kernelspec": {
   "display_name": "Python 3",
   "language": "python",
   "name": "python3"
  },
  "language_info": {
   "codemirror_mode": {
    "name": "ipython",
    "version": 3
   },
   "file_extension": ".py",
   "mimetype": "text/x-python",
   "name": "python",
   "nbconvert_exporter": "python",
   "pygments_lexer": "ipython3",
   "version": "3.6.3"
  }
 },
 "nbformat": 4,
 "nbformat_minor": 2
}
