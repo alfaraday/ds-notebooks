{
 "cells": [
  {
   "cell_type": "code",
   "execution_count": 1,
   "metadata": {},
   "outputs": [],
   "source": [
    "import pandas as pd\n",
    "import datetime"
   ]
  },
  {
   "cell_type": "markdown",
   "metadata": {},
   "source": [
    "We want to get a network file from LANL, open it in Pandas (only the first 500,000 rows - which is only about 2.5 minutes of data), convert time to actual timestamps, and then output in streaming format JSON, in sets of 10,000 rows. So only 50 JSON files. You can adjust if you'd like but 50 should be enough to move through quickly."
   ]
  },
  {
   "cell_type": "code",
   "execution_count": null,
   "metadata": {},
   "outputs": [],
   "source": [
    "%%bash\n",
    "cd ./lanl/day03\n",
    "wget -c https://s3-us-gov-west-1.amazonaws.com/unified-host-network-dataset/2017/netflow/netflow_day-03.bz2"
   ]
  },
  {
   "cell_type": "code",
   "execution_count": 2,
   "metadata": {},
   "outputs": [],
   "source": [
    "headers = ['time', 'duration', 'srcdevice', 'dstdevice', 'protocol',\n",
    "           'srcport', 'dstport', 'srcpackets', 'dstpackets', 'srcbytes', 'dstbytes']"
   ]
  },
  {
   "cell_type": "code",
   "execution_count": 3,
   "metadata": {},
   "outputs": [],
   "source": [
    "def dateparse (time_in_secs):    \n",
    "    return datetime.datetime.fromtimestamp(float(time_in_secs)).isoformat()"
   ]
  },
  {
   "cell_type": "code",
   "execution_count": 4,
   "metadata": {},
   "outputs": [],
   "source": [
    "dfDay03 = pd.read_csv('./lanl/day03/netflow_day-03.bz2', header=None, names=headers, nrows=500000) # , index_col=0, parse_dates=True, date_parser=dateparse)"
   ]
  },
  {
   "cell_type": "code",
   "execution_count": 5,
   "metadata": {},
   "outputs": [
    {
     "data": {
      "text/plain": [
       "500000"
      ]
     },
     "execution_count": 5,
     "metadata": {},
     "output_type": "execute_result"
    }
   ],
   "source": [
    "len(dfDay03)"
   ]
  },
  {
   "cell_type": "code",
   "execution_count": 6,
   "metadata": {},
   "outputs": [
    {
     "data": {
      "text/html": [
       "<div>\n",
       "<style scoped>\n",
       "    .dataframe tbody tr th:only-of-type {\n",
       "        vertical-align: middle;\n",
       "    }\n",
       "\n",
       "    .dataframe tbody tr th {\n",
       "        vertical-align: top;\n",
       "    }\n",
       "\n",
       "    .dataframe thead th {\n",
       "        text-align: right;\n",
       "    }\n",
       "</style>\n",
       "<table border=\"1\" class=\"dataframe\">\n",
       "  <thead>\n",
       "    <tr style=\"text-align: right;\">\n",
       "      <th></th>\n",
       "      <th>time</th>\n",
       "      <th>duration</th>\n",
       "      <th>srcdevice</th>\n",
       "      <th>dstdevice</th>\n",
       "      <th>protocol</th>\n",
       "      <th>srcport</th>\n",
       "      <th>dstport</th>\n",
       "      <th>srcpackets</th>\n",
       "      <th>dstpackets</th>\n",
       "      <th>srcbytes</th>\n",
       "      <th>dstbytes</th>\n",
       "    </tr>\n",
       "  </thead>\n",
       "  <tbody>\n",
       "    <tr>\n",
       "      <th>499995</th>\n",
       "      <td>172957</td>\n",
       "      <td>0</td>\n",
       "      <td>Comp208915</td>\n",
       "      <td>Comp275646</td>\n",
       "      <td>17</td>\n",
       "      <td>Port27607</td>\n",
       "      <td>53</td>\n",
       "      <td>1</td>\n",
       "      <td>0</td>\n",
       "      <td>73</td>\n",
       "      <td>0</td>\n",
       "    </tr>\n",
       "    <tr>\n",
       "      <th>499996</th>\n",
       "      <td>172957</td>\n",
       "      <td>0</td>\n",
       "      <td>Comp208915</td>\n",
       "      <td>Comp275646</td>\n",
       "      <td>17</td>\n",
       "      <td>Port55333</td>\n",
       "      <td>53</td>\n",
       "      <td>1</td>\n",
       "      <td>0</td>\n",
       "      <td>60</td>\n",
       "      <td>0</td>\n",
       "    </tr>\n",
       "    <tr>\n",
       "      <th>499997</th>\n",
       "      <td>172957</td>\n",
       "      <td>0</td>\n",
       "      <td>Comp208915</td>\n",
       "      <td>Comp275646</td>\n",
       "      <td>17</td>\n",
       "      <td>Port74721</td>\n",
       "      <td>53</td>\n",
       "      <td>1</td>\n",
       "      <td>0</td>\n",
       "      <td>65</td>\n",
       "      <td>0</td>\n",
       "    </tr>\n",
       "    <tr>\n",
       "      <th>499998</th>\n",
       "      <td>172957</td>\n",
       "      <td>0</td>\n",
       "      <td>Comp208915</td>\n",
       "      <td>Comp275646</td>\n",
       "      <td>17</td>\n",
       "      <td>Port80500</td>\n",
       "      <td>53</td>\n",
       "      <td>1</td>\n",
       "      <td>0</td>\n",
       "      <td>63</td>\n",
       "      <td>0</td>\n",
       "    </tr>\n",
       "    <tr>\n",
       "      <th>499999</th>\n",
       "      <td>172957</td>\n",
       "      <td>0</td>\n",
       "      <td>Comp208915</td>\n",
       "      <td>Comp275646</td>\n",
       "      <td>17</td>\n",
       "      <td>Port81522</td>\n",
       "      <td>53</td>\n",
       "      <td>1</td>\n",
       "      <td>0</td>\n",
       "      <td>63</td>\n",
       "      <td>0</td>\n",
       "    </tr>\n",
       "  </tbody>\n",
       "</table>\n",
       "</div>"
      ],
      "text/plain": [
       "          time  duration   srcdevice   dstdevice  protocol    srcport dstport  \\\n",
       "499995  172957         0  Comp208915  Comp275646        17  Port27607      53   \n",
       "499996  172957         0  Comp208915  Comp275646        17  Port55333      53   \n",
       "499997  172957         0  Comp208915  Comp275646        17  Port74721      53   \n",
       "499998  172957         0  Comp208915  Comp275646        17  Port80500      53   \n",
       "499999  172957         0  Comp208915  Comp275646        17  Port81522      53   \n",
       "\n",
       "        srcpackets  dstpackets  srcbytes  dstbytes  \n",
       "499995           1           0        73         0  \n",
       "499996           1           0        60         0  \n",
       "499997           1           0        65         0  \n",
       "499998           1           0        63         0  \n",
       "499999           1           0        63         0  "
      ]
     },
     "execution_count": 6,
     "metadata": {},
     "output_type": "execute_result"
    }
   ],
   "source": [
    "dfDay03.tail()"
   ]
  },
  {
   "cell_type": "code",
   "execution_count": 9,
   "metadata": {},
   "outputs": [],
   "source": [
    "dfDay03.to_csv('./lanl/day03/netflow_day-03_partial.csv', header=True, index=False)"
   ]
  },
  {
   "cell_type": "code",
   "execution_count": null,
   "metadata": {},
   "outputs": [],
   "source": [
    "%%bash\n",
    "cd ./lanl/day03\n",
    "mkdir -p csv\n",
    "mkdir -p json\n",
    "head -1 netflow_day-03_partial.csv > headers.csv\n",
    "mv netflow_day-03_partial.csv ./csv\n",
    "mv headers.csv ./csv\n",
    "cd csv\n",
    "split -l 10000 netflow_day-03_partial.csv segment_\n",
    "fnumber=1\n",
    "files=(*)\n",
    "for input in $files; do\n",
    "    printf -v j \"%02g\" $fnumber;\n",
    "    echo \"working on time_$j.json\";\n",
    "    pwd;\n",
    "    cat headers.csv $input > time_$j.csv;\n",
    "    csvjson --stream time_$j.csv > ../json/time_$j.json;\n",
    "    rm $input time_$j.csv;\n",
    "    fnumber=$((fnumber + 1));\n",
    "done;"
   ]
  },
  {
   "cell_type": "code",
   "execution_count": null,
   "metadata": {},
   "outputs": [],
   "source": []
  }
 ],
 "metadata": {
  "kernelspec": {
   "display_name": "Python 3",
   "language": "python",
   "name": "python3"
  },
  "language_info": {
   "codemirror_mode": {
    "name": "ipython",
    "version": 3
   },
   "file_extension": ".py",
   "mimetype": "text/x-python",
   "name": "python",
   "nbconvert_exporter": "python",
   "pygments_lexer": "ipython3",
   "version": "3.6.3"
  }
 },
 "nbformat": 4,
 "nbformat_minor": 2
}
