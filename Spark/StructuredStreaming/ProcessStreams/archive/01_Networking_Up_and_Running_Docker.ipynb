{
 "cells": [
  {
   "cell_type": "markdown",
   "metadata": {},
   "source": [
    "Networking Two Docker Containers\n",
    "------------------------------\n",
    "\n",
    "Docker makes it incredibly simple to build a network of containers on a device. We'll take advantage of this today to create a data serving container, and a container that processes our streams.\n",
    "\n",
    "We'll need a terminal or powershell session to manage the data server, and we'll interact with our stream processing container through our typical Jupyter notebook.\n",
    "\n",
    "Getting Going\n",
    "------------\n",
    "\n",
    "Before we start containers, we need to set up our network. As you might expect, Docker's syntax for interacting with networks builds on the syntax we're already familiar with. We've seen `docker image`, `docker container`, and `docker build`. The command for interacting with Docker networks, then, is simply: `docker network`.\n",
    "\n",
    "We'll need to do the following:\n",
    "1. Create our network.\n",
    "2. Start our containers and attach them to the network.\n",
    "3. Inspect the network to make sure that the two containers are, in fact, properly attached.\n",
    "4. Stream data across the network.\n",
    "\n",
    "If you want to learn more about networking with Docker, the best place to start is with their [network tutorial](https://docs.docker.com/network/network-tutorial-standalone/).\n",
    "\n",
    "To create our network, we simply use the following command in a terminal window: `docker network create --driver bridge thinkful-net`. This command uses the default bridge network and creates a network called `thinkful-net`.\n",
    "\n",
    "To confirm that the network was set up, we can check with: `docker network ls`.\n",
    "\n",
    "Now it's time to launch our two containers. We'll use the standard `docker run` command, but in this case we have two containers, not one. We want them to connect to the network, have a readable name, and map the right data into each container. In addition, for the data server, we need to easily get into the container's shell so we can activate the server.\n",
    "\n",
    "Launch the server with the following command:\n",
    "`docker run -dit --rm --name data_server --network thinkful-net -v /Users/damian/Documents/Code/ds-notebooks/Spark/StructuredStreaming/ServeStreams:/home/ds/data thinkfulstudent/simple_server /bin/bash`\n",
    "\n",
    "Note the switches we use:\n",
    "* `-dit` launches in the background, but also lets the container know we may want an interactive session.\n",
    "* `--rm` removes the container when we stop it.\n",
    "* `--name` allows us to assign our own name to the container.\n",
    "* `--network` attaches to the network.\n",
    "* `-v` is the same folder mapping we've consistently used to assign data to the container.\n",
    "\n",
    "After the image name (`thinkfulstudent/simple_server`), you'll note that we have a `/bin/bash` statement - that's so we can easily get into our shell.\n",
    "\n",
    "If you want to see that in action, type: `docker attach data_server` and you'll get a shell. Exit the shell with the shortcut `ctrl-p ctrl-q`. We'll come back here later to launch the server.\n",
    "\n",
    "Launch the Spark instance in the same way we have before, but this time we'll also add a name and a network flag to the run statement.\n",
    "\n",
    "`docker run -d --rm --name pyspark1 --network thinkful-net -v /Users/damian/Documents/Code/ds-notebooks/Spark/StructuredStreaming/ProcessStreams:/home/ds/notebooks -p 8888:8888 thinkfulstudent/pyspark:2.2.1`\n",
    "\n",
    "Once both containers are up and running, we need to confirm that they are on the `thinkful-net` network, and find their IP addresses so we can have them talk to each other.\n",
    "\n",
    "Check the network status by typing `docker network inspect thinkful-net`. You should see formatted json output to the window, and if you find the `Containers` field, you'll see the name and IPv4 address of each container. Take note of these, we may need them later.\n",
    "\n",
    "Now that the network is set up and our containers are running, it's time to get going on our streaming datasets."
   ]
  },
  {
   "cell_type": "code",
   "execution_count": null,
   "metadata": {},
   "outputs": [],
   "source": []
  }
 ],
 "metadata": {
  "kernelspec": {
   "display_name": "Python 3",
   "language": "python",
   "name": "python3"
  },
  "language_info": {
   "codemirror_mode": {
    "name": "ipython",
    "version": 3
   },
   "file_extension": ".py",
   "mimetype": "text/x-python",
   "name": "python",
   "nbconvert_exporter": "python",
   "pygments_lexer": "ipython3",
   "version": "3.6.3"
  }
 },
 "nbformat": 4,
 "nbformat_minor": 2
}
