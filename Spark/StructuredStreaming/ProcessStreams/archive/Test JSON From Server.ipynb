{
 "cells": [
  {
   "cell_type": "code",
   "execution_count": null,
   "metadata": {},
   "outputs": [],
   "source": [
    "import socket\n",
    "import json\n",
    "import pandas as pd"
   ]
  },
  {
   "cell_type": "code",
   "execution_count": null,
   "metadata": {},
   "outputs": [],
   "source": [
    "TCP_IP = '172.18.0.2'\n",
    "TCP_PORT = 9009\n",
    "\n",
    "# Create a TCP/IP socket\n",
    "sock = socket.socket(socket.AF_INET, socket.SOCK_STREAM)\n",
    "\n",
    "# Connect the socket to the port where the server is listening\n",
    "server_address = (TCP_IP, TCP_PORT)\n",
    "print(f\"connecting to {server_address[0]}; port {server_address[1]}\")\n",
    "sock.connect(server_address)\n",
    "\n",
    "cols = ['Time', 'Duration', 'SrcDevice', 'DstDevice', 'Protocol', 'SrcPort', \n",
    "        'DstPort', 'SrcPackets', 'DstPackets', 'SrcBytes', 'DstBytes']\n",
    "\n",
    "df_data = pd.DataFrame(columns = cols)\n",
    "\n",
    "try:\n",
    "    # Look for the response\n",
    "    amount_received = 0\n",
    "    amount_expected = 20 # we want 20 lines\n",
    "    \n",
    "    while amount_received < amount_expected:\n",
    "        data = sock.recv(512)\n",
    "        js_data = json.loads(data)\n",
    "        df_data = df_data.append(js_data, ignore_index=True)\n",
    "        amount_received += 1\n",
    "        print(f\"Amount Received: {amount_received}\")\n",
    "        print(f\"{js_data}\")\n",
    "        print(f\"----------------------------------\")\n",
    "\n",
    "finally:\n",
    "    print(f\"closing socket\")\n",
    "    sock.close()"
   ]
  },
  {
   "cell_type": "code",
   "execution_count": null,
   "metadata": {},
   "outputs": [],
   "source": [
    "df_data"
   ]
  },
  {
   "cell_type": "code",
   "execution_count": null,
   "metadata": {},
   "outputs": [],
   "source": []
  }
 ],
 "metadata": {
  "kernelspec": {
   "display_name": "Python 3",
   "language": "python",
   "name": "python3"
  },
  "language_info": {
   "codemirror_mode": {
    "name": "ipython",
    "version": 3
   },
   "file_extension": ".py",
   "mimetype": "text/x-python",
   "name": "python",
   "nbconvert_exporter": "python",
   "pygments_lexer": "ipython3",
   "version": "3.6.3"
  }
 },
 "nbformat": 4,
 "nbformat_minor": 2
}
