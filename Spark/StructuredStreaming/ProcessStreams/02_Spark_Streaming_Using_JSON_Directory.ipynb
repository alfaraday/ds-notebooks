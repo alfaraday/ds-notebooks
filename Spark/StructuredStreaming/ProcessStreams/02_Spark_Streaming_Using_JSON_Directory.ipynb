{
 "cells": [
  {
   "cell_type": "markdown",
   "metadata": {},
   "source": [
    "Finding Web Servers in Streaming Network Data With Spark\n",
    "-----------------------------------------------------\n",
    "\n",
    "It's time to run our streaming experiment. In this notebook, we'll do a few things:\n",
    "1. Import all the modules we need to run this in Spark.\n",
    "2. Set up our constants and our Spark session.\n",
    "3. First, test our hypothesis about web servers on the directory of JSON files using batch processing.\n",
    "4. Finally, stream the JSON files through Spark, run our query, and compare our results."
   ]
  },
  {
   "cell_type": "markdown",
   "metadata": {},
   "source": [
    "---------------------------------------------------------------------\n",
    "\n",
    "First, import everything we need for our project.\n",
    "Note that we're importing a number of data types - this is needed to define our streaming JSON schema. This is probably the most important part of the streaming setup. It's critical to get it right up front.\n",
    "\n",
    "We handle our streaming through the `StreamingContext`."
   ]
  },
  {
   "cell_type": "code",
   "execution_count": 1,
   "metadata": {},
   "outputs": [],
   "source": [
    "from pyspark import SparkContext\n",
    "from pyspark.sql import SparkSession\n",
    "\n",
    "from pyspark.sql.functions import desc, col, window\n",
    "\n",
    "from pyspark.sql.types import StructType, StructField, StringType, LongType, TimestampType\n",
    "from pyspark.streaming import StreamingContext\n",
    "\n",
    "import json\n",
    "import time\n",
    "import os"
   ]
  },
  {
   "cell_type": "markdown",
   "metadata": {},
   "source": [
    "Now define your input path - yours may differ from the one below. Remember, though - it's important that this be the path **inside** your container; not the local one on your laptop.\n",
    "\n",
    "We also get the number of files in the directory, then get an \"offset\" value we'll use later on to signal when our query is completed.\n",
    "\n",
    "Finally, start your `SparkSession`."
   ]
  },
  {
   "cell_type": "code",
   "execution_count": 3,
   "metadata": {},
   "outputs": [
    {
     "name": "stdout",
     "output_type": "stream",
     "text": [
      "There are 50 files in our inputPath, which gives an offset of 49.\n"
     ]
    }
   ],
   "source": [
    "inputPath = \"/home/ds/notebooks/lanl/day03/json/\"\n",
    "\n",
    "numFiles = len(os.listdir(inputPath))\n",
    "numFileOffset = numFiles - 1\n",
    "\n",
    "print(f\"There are {numFiles} files in our inputPath, which gives an offset of {numFileOffset}.\")\n",
    "\n",
    "APP_NAME = \"Web Server Hypothesis Test\"\n",
    "SPARK_URL = \"local[*]\"\n",
    "\n",
    "spark = SparkSession.builder.appName(APP_NAME).master(SPARK_URL).getOrCreate()"
   ]
  },
  {
   "cell_type": "markdown",
   "metadata": {},
   "source": [
    "Define our schema for the streaming data frame."
   ]
  },
  {
   "cell_type": "code",
   "execution_count": 4,
   "metadata": {},
   "outputs": [],
   "source": [
    "flowSchema = StructType([\n",
    "    StructField('time', TimestampType(), True),\n",
    "    StructField('duration', LongType(), True),\n",
    "    StructField('srcdevice', StringType(), True),\n",
    "    StructField('dstdevice', StringType(), True),\n",
    "    StructField('protocol', LongType(), True),\n",
    "    StructField('srcport', StringType(), True),\n",
    "    StructField('dstport', StringType(), True),\n",
    "    StructField('srcpackets', LongType(), True),\n",
    "    StructField('dstpackets', LongType(), True),\n",
    "    StructField('srcbytes', LongType(), True),\n",
    "    StructField('dstbytes', LongType(), True)\n",
    "])"
   ]
  },
  {
   "cell_type": "markdown",
   "metadata": {},
   "source": [
    "Now that we've set up the session and all supporting variables, it's time to run some queries.\n",
    "\n",
    "First, we'll create a static dataframe from all files in the directory. Spark makes this easy since we can pass it either a single filename, or a directory that contains our files, and it handles them the same in each case."
   ]
  },
  {
   "cell_type": "code",
   "execution_count": 5,
   "metadata": {},
   "outputs": [],
   "source": [
    "# Static DataFrame representing data in the JSON files\n",
    "staticInputDF = spark.read.json(inputPath)"
   ]
  },
  {
   "cell_type": "markdown",
   "metadata": {},
   "source": [
    "Check the schema. We don't need to apply our schema to this static data frame, so we don't do so at this time."
   ]
  },
  {
   "cell_type": "code",
   "execution_count": 6,
   "metadata": {},
   "outputs": [
    {
     "name": "stdout",
     "output_type": "stream",
     "text": [
      "root\n",
      " |-- _corrupt_record: string (nullable = true)\n",
      " |-- dstbytes: string (nullable = true)\n",
      " |-- dstdevice: string (nullable = true)\n",
      " |-- dstpackets: string (nullable = true)\n",
      " |-- dstport: string (nullable = true)\n",
      " |-- duration: string (nullable = true)\n",
      " |-- protocol: string (nullable = true)\n",
      " |-- srcbytes: string (nullable = true)\n",
      " |-- srcdevice: string (nullable = true)\n",
      " |-- srcpackets: string (nullable = true)\n",
      " |-- srcport: string (nullable = true)\n",
      " |-- time: string (nullable = true)\n",
      "\n"
     ]
    }
   ],
   "source": [
    "staticInputDF.printSchema()"
   ]
  },
  {
   "cell_type": "markdown",
   "metadata": {},
   "source": [
    "Time to build our query. It's a pretty simple SQL-like query.\n",
    "\n",
    "Recall that each row in the dataset represents a single conversation between two devices. A web server should be queried on ports 80 and 443 disproportionately more than devices that are not web servers.\n",
    "\n",
    "We select the `dstdevice` column, but limit only to the rows where the `dstport` is either `80` or `443`. Then we group by the `dstdevice` and get the count of each `dstdevice`.\n",
    "\n",
    "Finally we sort by the count descending, and show the top 20 web servers."
   ]
  },
  {
   "cell_type": "code",
   "execution_count": 7,
   "metadata": {},
   "outputs": [
    {
     "name": "stdout",
     "output_type": "stream",
     "text": [
      "+-------------------+-----+\n",
      "|          dstdevice|count|\n",
      "+-------------------+-----+\n",
      "|EnterpriseAppServer|14199|\n",
      "|         Comp576843|13837|\n",
      "|         Comp186884|12497|\n",
      "|         Comp501516| 5742|\n",
      "|         Comp393033| 3712|\n",
      "|         Comp916004| 3263|\n",
      "|         Comp498128| 2813|\n",
      "|         Comp573929| 2554|\n",
      "|         Comp611862| 2351|\n",
      "|         Comp370444| 2345|\n",
      "|         Comp097048| 1954|\n",
      "|         Comp847595| 1863|\n",
      "|         Comp574103| 1598|\n",
      "|         Comp309567| 1551|\n",
      "|         Comp509586| 1494|\n",
      "|         Comp216677| 1480|\n",
      "|         Comp336938| 1463|\n",
      "|         Comp657655| 1452|\n",
      "|         Comp146745| 1413|\n",
      "|         Comp457448| 1159|\n",
      "+-------------------+-----+\n",
      "only showing top 20 rows\n",
      "\n"
     ]
    }
   ],
   "source": [
    "staticInputDF.select('dstdevice') \\\n",
    "    .where(col('dstport').isin([80, 443])) \\\n",
    "    .groupby('dstdevice') \\\n",
    "    .count() \\\n",
    "    .sort(desc('count')) \\\n",
    "    .show(20)"
   ]
  },
  {
   "cell_type": "markdown",
   "metadata": {},
   "source": [
    "Now that we have our static baseline in place, let's try to replicate it in the streaming context.\n",
    "\n",
    "The good news here is that Spark treats a Streaming dataframe just like a static / batch dataframe. So the code you'll see below should be very familiar.\n",
    "\n",
    "First we set up a streaming input data frame. This gets the rows from our JSON, one file at a time.\n",
    "\n",
    "We simply tell Spark to read a stream limited to one file at a time, apply the defined schema, and use the JSON interpreter on the directory specified in `inputPath`."
   ]
  },
  {
   "cell_type": "code",
   "execution_count": 8,
   "metadata": {},
   "outputs": [],
   "source": [
    "streamingInputDF = (\n",
    "  spark\n",
    "    .readStream                       \n",
    "    .schema(flowSchema)               # Set the schema of the JSON data\n",
    "    .option(\"maxFilesPerTrigger\", 1)  # Treat a sequence of files as a stream by picking one file at a time\n",
    "    .json(inputPath)\n",
    ")"
   ]
  },
  {
   "cell_type": "markdown",
   "metadata": {},
   "source": [
    "Streaming handles things _slightly_ different - we need to create a streaming counts dataframe; we can't query the input dataframe directly.\n",
    "\n",
    "This is where we define our query - note that it looks almost identical to the static dataframe we saw earlier - and we confirm to Spark that yes, our counts dataframe is indeed a streaming dataframe."
   ]
  },
  {
   "cell_type": "code",
   "execution_count": 9,
   "metadata": {},
   "outputs": [
    {
     "data": {
      "text/plain": [
       "True"
      ]
     },
     "execution_count": 9,
     "metadata": {},
     "output_type": "execute_result"
    }
   ],
   "source": [
    "streamingCountsDF = streamingInputDF \\\n",
    "    .select('dstdevice') \\\n",
    "    .where(col('dstport').isin([80, 443])) \\\n",
    "    .groupBy(streamingInputDF.dstdevice) \\\n",
    "    .count() \\\n",
    "    .sort(desc('count'))\n",
    "\n",
    "# Is this DF actually a streaming DF?\n",
    "streamingCountsDF.isStreaming"
   ]
  },
  {
   "cell_type": "markdown",
   "metadata": {},
   "source": [
    "Finally it's time to start our streaming engine. We do this by creating an object named `query` that writes the stream into an in-memory table called `counts`. This is the table we'll monitor during streaming to see the progress of our count of web servers.\n",
    "\n",
    "We also set a shuffles partition to a small value here.\n",
    "\n",
    "The streaming process only begins when we execute the `.start()` method on the `streamingCountsDF` object."
   ]
  },
  {
   "cell_type": "code",
   "execution_count": 10,
   "metadata": {},
   "outputs": [],
   "source": [
    "spark.conf.set(\"spark.sql.shuffle.partitions\", \"2\")  # keep the size of shuffles small\n",
    "\n",
    "query = (\n",
    "  streamingCountsDF\n",
    "    .writeStream\n",
    "    .format(\"memory\")       \n",
    "    .queryName(\"counts\")     # counts = name of the in-memory table\n",
    "    .outputMode(\"complete\")  # complete = all the counts should be in the table\n",
    "    .start()\n",
    ")"
   ]
  },
  {
   "cell_type": "markdown",
   "metadata": {},
   "source": [
    "Finally we monitor the query as it proceeds. We let the query run a little by sleeping for four seconds; then we fall into a loop that updates each second until all files have been processed and the query has stopped. Unfortunately there isn't an easy way to see that the query has stopped, so we use our `numFileOffset` value to match with the `logOffset` in the `recentProgress` structure. Once they're equal, we terminate our loop, knowing we've run through all of the files in the directory."
   ]
  },
  {
   "cell_type": "code",
   "execution_count": 11,
   "metadata": {},
   "outputs": [
    {
     "name": "stdout",
     "output_type": "stream",
     "text": [
      "+-------------------+-----+\n",
      "|          dstdevice|count|\n",
      "+-------------------+-----+\n",
      "|         Comp576843| 5254|\n",
      "|EnterpriseAppServer| 5250|\n",
      "|         Comp186884| 4163|\n",
      "|         Comp501516| 2627|\n",
      "|         Comp498128| 1656|\n",
      "|         Comp657655| 1452|\n",
      "|         Comp370444| 1301|\n",
      "|         Comp916004| 1206|\n",
      "|         Comp393033| 1049|\n",
      "|         Comp611862|  862|\n",
      "|         Comp097048|  846|\n",
      "|         Comp573929|  745|\n",
      "|         Comp574103|  605|\n",
      "|         Comp146745|  567|\n",
      "|         Comp847595|  564|\n",
      "|         Comp457448|  556|\n",
      "|         Comp509586|  455|\n",
      "|         Comp309567|  447|\n",
      "|         Comp216677|  424|\n",
      "|         Comp523500|  411|\n",
      "+-------------------+-----+\n",
      "only showing top 20 rows\n",
      "\n",
      "+-------------------+-----+\n",
      "|          dstdevice|count|\n",
      "+-------------------+-----+\n",
      "|EnterpriseAppServer| 6377|\n",
      "|         Comp576843| 6275|\n",
      "|         Comp186884| 5567|\n",
      "|         Comp501516| 3114|\n",
      "|         Comp498128| 1856|\n",
      "|         Comp370444| 1531|\n",
      "|         Comp916004| 1466|\n",
      "|         Comp657655| 1452|\n",
      "|         Comp393033| 1316|\n",
      "|         Comp097048| 1172|\n",
      "|         Comp611862| 1072|\n",
      "|         Comp847595|  758|\n",
      "|         Comp573929|  747|\n",
      "|         Comp574103|  725|\n",
      "|         Comp146745|  671|\n",
      "|         Comp457448|  632|\n",
      "|         Comp216677|  582|\n",
      "|         Comp509586|  582|\n",
      "|         Comp309567|  581|\n",
      "|         Comp336938|  516|\n",
      "+-------------------+-----+\n",
      "only showing top 20 rows\n",
      "\n",
      "+-------------------+-----+\n",
      "|          dstdevice|count|\n",
      "+-------------------+-----+\n",
      "|EnterpriseAppServer| 6954|\n",
      "|         Comp576843| 6859|\n",
      "|         Comp186884| 6129|\n",
      "|         Comp501516| 3218|\n",
      "|         Comp498128| 1901|\n",
      "|         Comp916004| 1611|\n",
      "|         Comp370444| 1604|\n",
      "|         Comp657655| 1452|\n",
      "|         Comp393033| 1438|\n",
      "|         Comp573929| 1308|\n",
      "|         Comp097048| 1274|\n",
      "|         Comp611862| 1159|\n",
      "|         Comp847595|  834|\n",
      "|         Comp574103|  783|\n",
      "|         Comp146745|  711|\n",
      "|         Comp457448|  677|\n",
      "|         Comp309567|  645|\n",
      "|         Comp216677|  628|\n",
      "|         Comp509586|  620|\n",
      "|         Comp336938|  574|\n",
      "+-------------------+-----+\n",
      "only showing top 20 rows\n",
      "\n",
      "+-------------------+-----+\n",
      "|          dstdevice|count|\n",
      "+-------------------+-----+\n",
      "|EnterpriseAppServer| 7652|\n",
      "|         Comp576843| 7484|\n",
      "|         Comp186884| 6538|\n",
      "|         Comp501516| 3385|\n",
      "|         Comp573929| 2047|\n",
      "|         Comp498128| 1988|\n",
      "|         Comp916004| 1768|\n",
      "|         Comp370444| 1695|\n",
      "|         Comp393033| 1595|\n",
      "|         Comp657655| 1452|\n",
      "|         Comp097048| 1373|\n",
      "|         Comp611862| 1278|\n",
      "|         Comp847595|  910|\n",
      "|         Comp574103|  861|\n",
      "|         Comp146745|  786|\n",
      "|         Comp457448|  724|\n",
      "|         Comp309567|  693|\n",
      "|         Comp216677|  680|\n",
      "|         Comp509586|  673|\n",
      "|         Comp336938|  620|\n",
      "+-------------------+-----+\n",
      "only showing top 20 rows\n",
      "\n",
      "+-------------------+-----+\n",
      "|          dstdevice|count|\n",
      "+-------------------+-----+\n",
      "|EnterpriseAppServer| 8450|\n",
      "|         Comp576843| 8172|\n",
      "|         Comp186884| 6989|\n",
      "|         Comp501516| 3543|\n",
      "|         Comp573929| 2430|\n",
      "|         Comp498128| 2130|\n",
      "|         Comp916004| 1961|\n",
      "|         Comp370444| 1767|\n",
      "|         Comp393033| 1747|\n",
      "|         Comp657655| 1452|\n",
      "|         Comp097048| 1426|\n",
      "|         Comp611862| 1405|\n",
      "|         Comp847595|  978|\n",
      "|         Comp574103|  940|\n",
      "|         Comp146745|  851|\n",
      "|         Comp457448|  762|\n",
      "|         Comp309567|  742|\n",
      "|         Comp216677|  738|\n",
      "|         Comp509586|  725|\n",
      "|         Comp336938|  675|\n",
      "+-------------------+-----+\n",
      "only showing top 20 rows\n",
      "\n",
      "+-------------------+-----+\n",
      "|          dstdevice|count|\n",
      "+-------------------+-----+\n",
      "|EnterpriseAppServer| 9286|\n",
      "|         Comp576843| 9036|\n",
      "|         Comp186884| 8463|\n",
      "|         Comp501516| 3774|\n",
      "|         Comp573929| 2440|\n",
      "|         Comp498128| 2285|\n",
      "|         Comp916004| 2172|\n",
      "|         Comp393033| 1927|\n",
      "|         Comp370444| 1867|\n",
      "|         Comp611862| 1540|\n",
      "|         Comp097048| 1522|\n",
      "|         Comp657655| 1452|\n",
      "|         Comp847595| 1227|\n",
      "|         Comp574103| 1046|\n",
      "|         Comp309567| 1030|\n",
      "|         Comp216677| 1002|\n",
      "|         Comp509586|  965|\n",
      "|         Comp146745|  931|\n",
      "|         Comp336938|  927|\n",
      "|         Comp457448|  800|\n",
      "+-------------------+-----+\n",
      "only showing top 20 rows\n",
      "\n",
      "+-------------------+-----+\n",
      "|          dstdevice|count|\n",
      "+-------------------+-----+\n",
      "|EnterpriseAppServer|10082|\n",
      "|         Comp576843| 9893|\n",
      "|         Comp186884| 9731|\n",
      "|         Comp501516| 3944|\n",
      "|         Comp573929| 2456|\n",
      "|         Comp498128| 2427|\n",
      "|         Comp916004| 2360|\n",
      "|         Comp393033| 2078|\n",
      "|         Comp370444| 1937|\n",
      "|         Comp611862| 1684|\n",
      "|         Comp097048| 1597|\n",
      "|         Comp657655| 1452|\n",
      "|         Comp847595| 1404|\n",
      "|         Comp309567| 1206|\n",
      "|         Comp216677| 1157|\n",
      "|         Comp574103| 1142|\n",
      "|         Comp509586| 1128|\n",
      "|         Comp336938| 1111|\n",
      "|         Comp146745| 1011|\n",
      "|         Comp162943|  858|\n",
      "+-------------------+-----+\n",
      "only showing top 20 rows\n",
      "\n",
      "+-------------------+-----+\n",
      "|          dstdevice|count|\n",
      "+-------------------+-----+\n",
      "|EnterpriseAppServer|11137|\n",
      "|         Comp576843|11082|\n",
      "|         Comp186884|10523|\n",
      "|         Comp501516| 4226|\n",
      "|         Comp498128| 2682|\n",
      "|         Comp916004| 2602|\n",
      "|         Comp573929| 2530|\n",
      "|         Comp393033| 2354|\n",
      "|         Comp370444| 2062|\n",
      "|         Comp611862| 1874|\n",
      "|         Comp097048| 1682|\n",
      "|         Comp847595| 1523|\n",
      "|         Comp657655| 1452|\n",
      "|         Comp309567| 1298|\n",
      "|         Comp574103| 1276|\n",
      "|         Comp216677| 1242|\n",
      "|         Comp509586| 1221|\n",
      "|         Comp336938| 1209|\n",
      "|         Comp146745| 1132|\n",
      "|         Comp162943| 1001|\n",
      "+-------------------+-----+\n",
      "only showing top 20 rows\n",
      "\n",
      "+-------------------+-----+\n",
      "|          dstdevice|count|\n",
      "+-------------------+-----+\n",
      "|EnterpriseAppServer|12034|\n",
      "|         Comp576843|11949|\n",
      "|         Comp186884|11125|\n",
      "|         Comp501516| 4550|\n",
      "|         Comp916004| 2810|\n",
      "|         Comp498128| 2801|\n",
      "|         Comp393033| 2729|\n",
      "|         Comp573929| 2552|\n",
      "|         Comp370444| 2142|\n",
      "|         Comp611862| 2033|\n",
      "|         Comp097048| 1770|\n",
      "|         Comp847595| 1611|\n",
      "|         Comp657655| 1452|\n",
      "|         Comp574103| 1380|\n",
      "|         Comp309567| 1361|\n",
      "|         Comp216677| 1321|\n",
      "|         Comp336938| 1294|\n",
      "|         Comp509586| 1288|\n",
      "|         Comp146745| 1240|\n",
      "|         Comp162943| 1055|\n",
      "+-------------------+-----+\n",
      "only showing top 20 rows\n",
      "\n",
      "+-------------------+-----+\n",
      "|          dstdevice|count|\n",
      "+-------------------+-----+\n",
      "|EnterpriseAppServer|13087|\n",
      "|         Comp576843|12916|\n",
      "|         Comp186884|11844|\n",
      "|         Comp501516| 5478|\n",
      "|         Comp393033| 3180|\n",
      "|         Comp916004| 3052|\n",
      "|         Comp498128| 2811|\n",
      "|         Comp573929| 2553|\n",
      "|         Comp370444| 2234|\n",
      "|         Comp611862| 2199|\n",
      "|         Comp097048| 1870|\n",
      "|         Comp847595| 1724|\n",
      "|         Comp574103| 1495|\n",
      "|         Comp309567| 1457|\n",
      "|         Comp657655| 1452|\n",
      "|         Comp216677| 1400|\n",
      "|         Comp509586| 1398|\n",
      "|         Comp336938| 1378|\n",
      "|         Comp146745| 1327|\n",
      "|         Comp457448| 1078|\n",
      "+-------------------+-----+\n",
      "only showing top 20 rows\n",
      "\n",
      "+-------------------+-----+\n",
      "|          dstdevice|count|\n",
      "+-------------------+-----+\n",
      "|EnterpriseAppServer|14199|\n",
      "|         Comp576843|13837|\n",
      "|         Comp186884|12497|\n",
      "|         Comp501516| 5742|\n",
      "|         Comp393033| 3712|\n",
      "|         Comp916004| 3263|\n",
      "|         Comp498128| 2813|\n",
      "|         Comp573929| 2554|\n",
      "|         Comp611862| 2351|\n",
      "|         Comp370444| 2345|\n",
      "|         Comp097048| 1954|\n",
      "|         Comp847595| 1863|\n",
      "|         Comp574103| 1598|\n",
      "|         Comp309567| 1551|\n",
      "|         Comp509586| 1494|\n",
      "|         Comp216677| 1480|\n",
      "|         Comp336938| 1463|\n",
      "|         Comp657655| 1452|\n",
      "|         Comp146745| 1413|\n",
      "|         Comp457448| 1159|\n",
      "+-------------------+-----+\n",
      "only showing top 20 rows\n",
      "\n"
     ]
    }
   ],
   "source": [
    "# let the query run for a bit to insure there is data in the recent progress structure.\n",
    "time.sleep(4)\n",
    "\n",
    "# Monitor the progress of the query. The last table should be identical to the static query.\n",
    "while True:\n",
    "    spark.sql(\"select * from counts\").show(20)\n",
    "    time.sleep(1)\n",
    "    if query.recentProgress[-1]['sources'][0]['endOffset']['logOffset'] == numFileOffset:\n",
    "        break"
   ]
  },
  {
   "cell_type": "markdown",
   "metadata": {},
   "source": [
    "So that's it!\n",
    "\n",
    "If you compare the last table in the streaming example to the static dataframe query, you'll see that the two are identical. "
   ]
  },
  {
   "cell_type": "code",
   "execution_count": null,
   "metadata": {},
   "outputs": [],
   "source": []
  }
 ],
 "metadata": {
  "kernelspec": {
   "display_name": "Python 3",
   "language": "python",
   "name": "python3"
  },
  "language_info": {
   "codemirror_mode": {
    "name": "ipython",
    "version": 3
   },
   "file_extension": ".py",
   "mimetype": "text/x-python",
   "name": "python",
   "nbconvert_exporter": "python",
   "pygments_lexer": "ipython3",
   "version": "3.6.3"
  }
 },
 "nbformat": 4,
 "nbformat_minor": 2
}
