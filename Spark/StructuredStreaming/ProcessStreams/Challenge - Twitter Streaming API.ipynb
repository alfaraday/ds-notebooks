{
 "cells": [
  {
   "cell_type": "markdown",
   "metadata": {},
   "source": [
    "Now that you've looked at an example of how we can use Spark in streaming mode, it's time to try it out on your own.\n",
    "\n",
    "For this exercise, you’ll use the [Twitter streaming API](https://developer.twitter.com/en/docs/tweets/filter-realtime/api-reference/post-statuses-filter.html) to analyze tweets in real time. In order to use Twitter’s API, you’ll first need to [create an account](https://twitter.com/signup), if you don’t already have one. Then you’ll need to register an app to access the API. Ian Andersen Gray has written great [instructions for registering an app with Twitter](https://iag.me/socialmedia/how-to-create-a-twitter-app-in-8-easy-steps/). When asked for your website, you should use the URL for your Big Data GitHub repo.\n",
    "\n",
    "This notebook (which is also available in your GitHub repo) contains the starter code to pull tweets from the Twitter streaming API and pass them to your Spark instance.\n",
    "\n",
    "For this challenge, you need to:\n",
    "\n",
    "* Something about posing a question\n",
    "* Something about using Spark\n",
    "* Something about visualizations\n",
    "* Something about drawing a conclusion\n",
    "\n",
    "When you're done, submit a link to your notebook below."
   ]
  },
  {
   "cell_type": "code",
   "execution_count": null,
   "metadata": {},
   "outputs": [],
   "source": [
    "import socket\n",
    "import sys\n",
    "import requests\n",
    "import requests_oauthlib\n",
    "import json"
   ]
  },
  {
   "cell_type": "code",
   "execution_count": null,
   "metadata": {},
   "outputs": [],
   "source": [
    "# Replace the values below with yours\n",
    "ACCESS_TOKEN = 'YOUR_ACCESS_TOKEN'\n",
    "ACCESS_SECRET = 'YOUR_ACCESS_SECRET'\n",
    "CONSUMER_KEY = 'YOUR_CONSUMER_KEY'\n",
    "CONSUMER_SECRET = 'YOUR_CONSUMER_SECRET'\n",
    "my_auth = requests_oauthlib.OAuth1(CONSUMER_KEY, CONSUMER_SECRET,ACCESS_TOKEN, ACCESS_SECRET)"
   ]
  },
  {
   "cell_type": "code",
   "execution_count": null,
   "metadata": {},
   "outputs": [],
   "source": [
    "def get_tweets():\n",
    "    url = 'https://stream.twitter.com/1.1/statuses/filter.json'\n",
    "    query_data = [('language', 'en'), ('locations', '-130,-20,100,50'),('track','#')]\n",
    "    query_url = url + '?' + '&'.join([str(t[0]) + '=' + str(t[1]) for t in query_data])\n",
    "    response = requests.get(query_url, auth=my_auth, stream=True)\n",
    "    print(query_url, response)\n",
    "    return response"
   ]
  },
  {
   "cell_type": "code",
   "execution_count": null,
   "metadata": {},
   "outputs": [],
   "source": [
    "def send_tweets_to_spark(http_resp, tcp_connection):\n",
    "    for line in http_resp.iter_lines():\n",
    "        try:\n",
    "            full_tweet = json.loads(line)\n",
    "            tweet_text = full_tweet['text']\n",
    "            print(\"Tweet Text: \" + tweet_text)\n",
    "            print (\"------------------------------------------\")\n",
    "            tcp_connection.send(tweet_text + '\\n')\n",
    "        except:\n",
    "            e = sys.exc_info()[0]\n",
    "            print(\"Error: %s\" % e)"
   ]
  },
  {
   "cell_type": "code",
   "execution_count": null,
   "metadata": {},
   "outputs": [],
   "source": [
    "TCP_IP = \"localhost\"\n",
    "TCP_PORT = 9009\n",
    "conn = None\n",
    "s = socket.socket(socket.AF_INET, socket.SOCK_STREAM)\n",
    "s.bind((TCP_IP, TCP_PORT))\n",
    "s.listen(1)\n",
    "print(\"Waiting for TCP connection...\")\n",
    "conn, addr = s.accept()\n",
    "print(\"Connected... Starting getting tweets.\")\n",
    "resp = get_tweets()\n",
    "send_tweets_to_spark(resp, conn)"
   ]
  }
 ],
 "metadata": {
  "kernelspec": {
   "display_name": "Python 3",
   "language": "python",
   "name": "python3"
  },
  "language_info": {
   "codemirror_mode": {
    "name": "ipython",
    "version": 3
   },
   "file_extension": ".py",
   "mimetype": "text/x-python",
   "name": "python",
   "nbconvert_exporter": "python",
   "pygments_lexer": "ipython3",
   "version": "3.6.2"
  }
 },
 "nbformat": 4,
 "nbformat_minor": 2
}
