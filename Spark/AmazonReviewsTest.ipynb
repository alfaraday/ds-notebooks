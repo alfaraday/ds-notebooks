{
 "cells": [
  {
   "cell_type": "code",
   "execution_count": 1,
   "metadata": {},
   "outputs": [],
   "source": [
    "import pyspark"
   ]
  },
  {
   "cell_type": "code",
   "execution_count": 2,
   "metadata": {},
   "outputs": [],
   "source": [
    "sc = pyspark.SparkContext('local[*]')"
   ]
  },
  {
   "cell_type": "code",
   "execution_count": 3,
   "metadata": {},
   "outputs": [],
   "source": [
    "sqlContext = pyspark.SQLContext(sc)"
   ]
  },
  {
   "cell_type": "code",
   "execution_count": 4,
   "metadata": {},
   "outputs": [],
   "source": [
    "amznInstantVideo = sqlContext.read.json(\"AmznInstantVideo.json\")"
   ]
  },
  {
   "cell_type": "code",
   "execution_count": 5,
   "metadata": {},
   "outputs": [
    {
     "name": "stdout",
     "output_type": "stream",
     "text": [
      "root\n",
      " |-- asin: string (nullable = true)\n",
      " |-- helpful: array (nullable = true)\n",
      " |    |-- element: long (containsNull = true)\n",
      " |-- overall: double (nullable = true)\n",
      " |-- reviewText: string (nullable = true)\n",
      " |-- reviewTime: string (nullable = true)\n",
      " |-- reviewerID: string (nullable = true)\n",
      " |-- reviewerName: string (nullable = true)\n",
      " |-- summary: string (nullable = true)\n",
      " |-- unixReviewTime: long (nullable = true)\n",
      "\n"
     ]
    }
   ],
   "source": [
    "amznInstantVideo.printSchema()"
   ]
  },
  {
   "cell_type": "code",
   "execution_count": 6,
   "metadata": {},
   "outputs": [],
   "source": [
    "amznInstantVideo.registerTempTable('reviews')"
   ]
  },
  {
   "cell_type": "code",
   "execution_count": 7,
   "metadata": {},
   "outputs": [
    {
     "name": "stdout",
     "output_type": "stream",
     "text": [
      "+-------+\n",
      "|overall|\n",
      "+-------+\n",
      "|    5.0|\n",
      "|    4.0|\n",
      "|    3.0|\n",
      "|    2.0|\n",
      "|    1.0|\n",
      "+-------+\n",
      "\n"
     ]
    }
   ],
   "source": [
    "sqlContext.sql(\"select distinct overall from reviews order by overall desc\").show()"
   ]
  },
  {
   "cell_type": "markdown",
   "metadata": {},
   "source": [
    "Let's recode the overall score to __positive__, __negative__, or __neutral__\n",
    "* __Positive__: overall > 3\n",
    "* __Negative__: overall < 3\n",
    "* __Neutral__: overall == 3\n",
    "\n",
    "We'll use a User Defined Function to add this column."
   ]
  },
  {
   "cell_type": "code",
   "execution_count": 8,
   "metadata": {},
   "outputs": [],
   "source": [
    "from pyspark.sql.functions import UserDefinedFunction\n",
    "from pyspark.sql.types import IntegerType\n",
    " \n",
    "udf = UserDefinedFunction(lambda x: 1 if x > 3.0 else -1, IntegerType())\n",
    "amznInstantVideo = amznInstantVideo.withColumn(\"overall_recode\",udf(amznInstantVideo.overall))"
   ]
  },
  {
   "cell_type": "code",
   "execution_count": 9,
   "metadata": {},
   "outputs": [
    {
     "name": "stdout",
     "output_type": "stream",
     "text": [
      "+--------------------+-------+--------------+\n",
      "|          reviewText|overall|overall_recode|\n",
      "+--------------------+-------+--------------+\n",
      "|I had big expecta...|    2.0|            -1|\n",
      "|I highly recommen...|    5.0|             1|\n",
      "|This one is a rea...|    1.0|            -1|\n",
      "|Mysteries are int...|    4.0|             1|\n",
      "|This show always ...|    5.0|             1|\n",
      "|I discovered this...|    5.0|             1|\n",
      "|It beats watching...|    3.0|            -1|\n",
      "|There are many ep...|    3.0|            -1|\n",
      "|This is the best ...|    5.0|             1|\n",
      "|Not bad.  Didn't ...|    3.0|            -1|\n",
      "+--------------------+-------+--------------+\n",
      "only showing top 10 rows\n",
      "\n"
     ]
    }
   ],
   "source": [
    "amznInstantVideo.select(\"reviewText\", \"overall\", \"overall_recode\").show(10)"
   ]
  },
  {
   "cell_type": "code",
   "execution_count": 10,
   "metadata": {},
   "outputs": [],
   "source": [
    "from matplotlib import pyplot as plt\n",
    "import numpy as np\n",
    "import functools\n",
    "%matplotlib inline"
   ]
  },
  {
   "cell_type": "code",
   "execution_count": 11,
   "metadata": {},
   "outputs": [
    {
     "data": {
      "text/plain": [
       "([<matplotlib.axis.XTick at 0x7f13e0c60f28>,\n",
       "  <matplotlib.axis.XTick at 0x7f13e0cb5860>],\n",
       " <a list of 2 Text xticklabel objects>)"
      ]
     },
     "execution_count": 11,
     "metadata": {},
     "output_type": "execute_result"
    },
    {
     "data": {
      "image/png": "[encoded data removed]",
      "text/plain": [
       "<matplotlib.figure.Figure at 0x7f13e0cb5cf8>"
      ]
     },
     "metadata": {},
     "output_type": "display_data"
    }
   ],
   "source": [
    "plt.rcParams['figure.figsize'] = (15, 6)\n",
    " \n",
    "statuses = amznInstantVideo.groupBy('overall_recode').count().collect()\n",
    "categories = [i[0] for i in statuses]\n",
    "counts = [i[1] for i in statuses]\n",
    " \n",
    "ind = np.array(range(len(categories)))\n",
    "width = 0.35\n",
    "plt.bar(ind, counts, width=width, color='r')\n",
    " \n",
    "plt.ylabel('counts')\n",
    "plt.title('distribution')\n",
    "plt.xticks(ind + width/2., categories)"
   ]
  },
  {
   "cell_type": "code",
   "execution_count": 13,
   "metadata": {},
   "outputs": [],
   "source": [
    "from pyspark.ml.feature import Tokenizer, Word2Vec\n",
    "\n",
    "tokenizer = Tokenizer(inputCol=\"reviewText\", outputCol=\"tokenized_text\").transform(amznInstantVideo)\n",
    "\n",
    "word2Vec = Word2Vec(vectorSize=300, seed=42, inputCol=\"tokenized_text\", outputCol=\"w2v_vector\").fit(tokenizer)\n",
    "\n",
    "w2vdf=word2Vec.transform(tokenizer)"
   ]
  },
  {
   "cell_type": "code",
   "execution_count": 14,
   "metadata": {},
   "outputs": [
    {
     "name": "stdout",
     "output_type": "stream",
     "text": [
      "root\n",
      " |-- asin: string (nullable = true)\n",
      " |-- helpful: array (nullable = true)\n",
      " |    |-- element: long (containsNull = true)\n",
      " |-- overall: double (nullable = true)\n",
      " |-- reviewText: string (nullable = true)\n",
      " |-- reviewTime: string (nullable = true)\n",
      " |-- reviewerID: string (nullable = true)\n",
      " |-- reviewerName: string (nullable = true)\n",
      " |-- summary: string (nullable = true)\n",
      " |-- unixReviewTime: long (nullable = true)\n",
      " |-- overall_recode: integer (nullable = true)\n",
      " |-- tokenized_text: array (nullable = true)\n",
      " |    |-- element: string (containsNull = true)\n",
      " |-- w2v_vector: vector (nullable = true)\n",
      "\n"
     ]
    }
   ],
   "source": [
    "w2vdf.printSchema()"
   ]
  },
  {
   "cell_type": "code",
   "execution_count": 16,
   "metadata": {},
   "outputs": [
    {
     "name": "stdout",
     "output_type": "stream",
     "text": [
      "+--------------+--------------------+--------------------+--------------------+\n",
      "|overall_recode|          reviewText|      tokenized_text|          w2v_vector|\n",
      "+--------------+--------------------+--------------------+--------------------+\n",
      "|            -1|I had big expecta...|[i, had, big, exp...|[-0.0370439446113...|\n",
      "|             1|I highly recommen...|[i, highly, recom...|[0.00302896804805...|\n",
      "|            -1|This one is a rea...|[this, one, is, a...|[0.00766816143340...|\n",
      "|             1|Mysteries are int...|[mysteries, are, ...|[0.02922427154819...|\n",
      "|             1|This show always ...|[this, show, alwa...|[-0.0129554296898...|\n",
      "|             1|I discovered this...|[i, discovered, t...|[0.00260004208480...|\n",
      "|            -1|It beats watching...|[it, beats, watch...|[-0.0328859328292...|\n",
      "|            -1|There are many ep...|[there, are, many...|[-0.0305897704939...|\n",
      "|             1|This is the best ...|[this, is, the, b...|[-0.0207668397751...|\n",
      "|            -1|Not bad.  Didn't ...|[not, bad., , did...|[0.00248196386490...|\n",
      "+--------------+--------------------+--------------------+--------------------+\n",
      "only showing top 10 rows\n",
      "\n"
     ]
    }
   ],
   "source": [
    "w2vdf.select(\"overall_recode\", \"reviewText\", \"tokenized_text\", \"w2v_vector\").show(10)"
   ]
  },
  {
   "cell_type": "code",
   "execution_count": null,
   "metadata": {},
   "outputs": [],
   "source": []
  }
 ],
 "metadata": {
  "kernelspec": {
   "display_name": "Python 3",
   "language": "python",
   "name": "python3"
  },
  "language_info": {
   "codemirror_mode": {
    "name": "ipython",
    "version": 3
   },
   "file_extension": ".py",
   "mimetype": "text/x-python",
   "name": "python",
   "nbconvert_exporter": "python",
   "pygments_lexer": "ipython3",
   "version": "3.6.3"
  }
 },
 "nbformat": 4,
 "nbformat_minor": 2
}
